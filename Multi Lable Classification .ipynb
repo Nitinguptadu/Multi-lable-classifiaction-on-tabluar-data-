{
 "cells": [
  {
   "cell_type": "code",
   "execution_count": 1,
   "metadata": {},
   "outputs": [],
   "source": [
    "import numpy as np\n",
    "\n",
    "import pandas as pd"
   ]
  },
  {
   "cell_type": "markdown",
   "metadata": {},
   "source": [
    "# Importing Multilable data set with 2 target coloum"
   ]
  },
  {
   "cell_type": "code",
   "execution_count": 2,
   "metadata": {},
   "outputs": [],
   "source": [
    "df = pd.read_excel(\"data.xlsx\",index_col=None)"
   ]
  },
  {
   "cell_type": "code",
   "execution_count": 3,
   "metadata": {},
   "outputs": [
    {
     "data": {
      "text/html": [
       "<div>\n",
       "<style scoped>\n",
       "    .dataframe tbody tr th:only-of-type {\n",
       "        vertical-align: middle;\n",
       "    }\n",
       "\n",
       "    .dataframe tbody tr th {\n",
       "        vertical-align: top;\n",
       "    }\n",
       "\n",
       "    .dataframe thead th {\n",
       "        text-align: right;\n",
       "    }\n",
       "</style>\n",
       "<table border=\"1\" class=\"dataframe\">\n",
       "  <thead>\n",
       "    <tr style=\"text-align: right;\">\n",
       "      <th></th>\n",
       "      <th>Unnamed: 0</th>\n",
       "      <th>Att1</th>\n",
       "      <th>Att2</th>\n",
       "      <th>Att3</th>\n",
       "      <th>Att4</th>\n",
       "      <th>Att5</th>\n",
       "      <th>Att6</th>\n",
       "      <th>Att7</th>\n",
       "      <th>Att8</th>\n",
       "      <th>Att9</th>\n",
       "      <th>...</th>\n",
       "      <th>Att96</th>\n",
       "      <th>Att97</th>\n",
       "      <th>Att98</th>\n",
       "      <th>Att99</th>\n",
       "      <th>Att100</th>\n",
       "      <th>Att101</th>\n",
       "      <th>Att102</th>\n",
       "      <th>Att103</th>\n",
       "      <th>Class1</th>\n",
       "      <th>Class2</th>\n",
       "    </tr>\n",
       "  </thead>\n",
       "  <tbody>\n",
       "    <tr>\n",
       "      <th>0</th>\n",
       "      <td>0</td>\n",
       "      <td>0.093700</td>\n",
       "      <td>0.139771</td>\n",
       "      <td>0.062774</td>\n",
       "      <td>0.007698</td>\n",
       "      <td>0.083873</td>\n",
       "      <td>-0.119156</td>\n",
       "      <td>0.073305</td>\n",
       "      <td>0.005510</td>\n",
       "      <td>0.027523</td>\n",
       "      <td>...</td>\n",
       "      <td>-0.034711</td>\n",
       "      <td>-0.038675</td>\n",
       "      <td>-0.039102</td>\n",
       "      <td>0.017429</td>\n",
       "      <td>-0.052659</td>\n",
       "      <td>-0.042402</td>\n",
       "      <td>0.118473</td>\n",
       "      <td>0.125632</td>\n",
       "      <td>0</td>\n",
       "      <td>0</td>\n",
       "    </tr>\n",
       "    <tr>\n",
       "      <th>1</th>\n",
       "      <td>1</td>\n",
       "      <td>-0.022711</td>\n",
       "      <td>-0.050504</td>\n",
       "      <td>-0.035691</td>\n",
       "      <td>-0.065434</td>\n",
       "      <td>-0.084316</td>\n",
       "      <td>-0.378560</td>\n",
       "      <td>0.038212</td>\n",
       "      <td>0.085770</td>\n",
       "      <td>0.182613</td>\n",
       "      <td>...</td>\n",
       "      <td>-0.021814</td>\n",
       "      <td>0.010430</td>\n",
       "      <td>-0.013809</td>\n",
       "      <td>-0.009248</td>\n",
       "      <td>-0.027318</td>\n",
       "      <td>-0.014191</td>\n",
       "      <td>0.022783</td>\n",
       "      <td>0.123785</td>\n",
       "      <td>0</td>\n",
       "      <td>0</td>\n",
       "    </tr>\n",
       "    <tr>\n",
       "      <th>2</th>\n",
       "      <td>2</td>\n",
       "      <td>-0.090407</td>\n",
       "      <td>0.021198</td>\n",
       "      <td>0.208712</td>\n",
       "      <td>0.102752</td>\n",
       "      <td>0.119315</td>\n",
       "      <td>0.041729</td>\n",
       "      <td>-0.021728</td>\n",
       "      <td>0.019603</td>\n",
       "      <td>-0.063853</td>\n",
       "      <td>...</td>\n",
       "      <td>0.012583</td>\n",
       "      <td>0.002233</td>\n",
       "      <td>-0.002072</td>\n",
       "      <td>-0.010981</td>\n",
       "      <td>0.007615</td>\n",
       "      <td>-0.063378</td>\n",
       "      <td>-0.084181</td>\n",
       "      <td>-0.034402</td>\n",
       "      <td>0</td>\n",
       "      <td>1</td>\n",
       "    </tr>\n",
       "    <tr>\n",
       "      <th>3</th>\n",
       "      <td>3</td>\n",
       "      <td>-0.085235</td>\n",
       "      <td>0.009540</td>\n",
       "      <td>-0.013228</td>\n",
       "      <td>0.094063</td>\n",
       "      <td>-0.013592</td>\n",
       "      <td>-0.030719</td>\n",
       "      <td>-0.116062</td>\n",
       "      <td>-0.131674</td>\n",
       "      <td>-0.165448</td>\n",
       "      <td>...</td>\n",
       "      <td>-0.046999</td>\n",
       "      <td>-0.066604</td>\n",
       "      <td>-0.055773</td>\n",
       "      <td>-0.041941</td>\n",
       "      <td>0.051066</td>\n",
       "      <td>0.004976</td>\n",
       "      <td>0.193972</td>\n",
       "      <td>0.131866</td>\n",
       "      <td>0</td>\n",
       "      <td>0</td>\n",
       "    </tr>\n",
       "    <tr>\n",
       "      <th>4</th>\n",
       "      <td>4</td>\n",
       "      <td>-0.088765</td>\n",
       "      <td>-0.026743</td>\n",
       "      <td>0.002075</td>\n",
       "      <td>-0.043819</td>\n",
       "      <td>-0.005465</td>\n",
       "      <td>0.004306</td>\n",
       "      <td>-0.055865</td>\n",
       "      <td>-0.071484</td>\n",
       "      <td>-0.159025</td>\n",
       "      <td>...</td>\n",
       "      <td>0.028468</td>\n",
       "      <td>-0.073576</td>\n",
       "      <td>0.050630</td>\n",
       "      <td>0.084832</td>\n",
       "      <td>-0.019570</td>\n",
       "      <td>-0.021650</td>\n",
       "      <td>-0.068326</td>\n",
       "      <td>-0.091155</td>\n",
       "      <td>1</td>\n",
       "      <td>1</td>\n",
       "    </tr>\n",
       "  </tbody>\n",
       "</table>\n",
       "<p>5 rows × 106 columns</p>\n",
       "</div>"
      ],
      "text/plain": [
       "   Unnamed: 0      Att1      Att2      Att3      Att4      Att5      Att6  \\\n",
       "0           0  0.093700  0.139771  0.062774  0.007698  0.083873 -0.119156   \n",
       "1           1 -0.022711 -0.050504 -0.035691 -0.065434 -0.084316 -0.378560   \n",
       "2           2 -0.090407  0.021198  0.208712  0.102752  0.119315  0.041729   \n",
       "3           3 -0.085235  0.009540 -0.013228  0.094063 -0.013592 -0.030719   \n",
       "4           4 -0.088765 -0.026743  0.002075 -0.043819 -0.005465  0.004306   \n",
       "\n",
       "       Att7      Att8      Att9  ...     Att96     Att97     Att98     Att99  \\\n",
       "0  0.073305  0.005510  0.027523  ... -0.034711 -0.038675 -0.039102  0.017429   \n",
       "1  0.038212  0.085770  0.182613  ... -0.021814  0.010430 -0.013809 -0.009248   \n",
       "2 -0.021728  0.019603 -0.063853  ...  0.012583  0.002233 -0.002072 -0.010981   \n",
       "3 -0.116062 -0.131674 -0.165448  ... -0.046999 -0.066604 -0.055773 -0.041941   \n",
       "4 -0.055865 -0.071484 -0.159025  ...  0.028468 -0.073576  0.050630  0.084832   \n",
       "\n",
       "     Att100    Att101    Att102    Att103  Class1  Class2  \n",
       "0 -0.052659 -0.042402  0.118473  0.125632       0       0  \n",
       "1 -0.027318 -0.014191  0.022783  0.123785       0       0  \n",
       "2  0.007615 -0.063378 -0.084181 -0.034402       0       1  \n",
       "3  0.051066  0.004976  0.193972  0.131866       0       0  \n",
       "4 -0.019570 -0.021650 -0.068326 -0.091155       1       1  \n",
       "\n",
       "[5 rows x 106 columns]"
      ]
     },
     "execution_count": 3,
     "metadata": {},
     "output_type": "execute_result"
    }
   ],
   "source": [
    "df.head()"
   ]
  },
  {
   "cell_type": "markdown",
   "metadata": {},
   "source": [
    "# Target Class1 & Class2"
   ]
  },
  {
   "cell_type": "code",
   "execution_count": 4,
   "metadata": {},
   "outputs": [
    {
     "data": {
      "text/plain": [
       "Index(['Unnamed: 0', 'Att1', 'Att2', 'Att3', 'Att4', 'Att5', 'Att6', 'Att7',\n",
       "       'Att8', 'Att9',\n",
       "       ...\n",
       "       'Att96', 'Att97', 'Att98', 'Att99', 'Att100', 'Att101', 'Att102',\n",
       "       'Att103', 'Class1', 'Class2'],\n",
       "      dtype='object', length=106)"
      ]
     },
     "execution_count": 4,
     "metadata": {},
     "output_type": "execute_result"
    }
   ],
   "source": [
    "df.columns"
   ]
  },
  {
   "cell_type": "markdown",
   "metadata": {},
   "source": [
    "# Importing train and test  split"
   ]
  },
  {
   "cell_type": "code",
   "execution_count": 5,
   "metadata": {},
   "outputs": [],
   "source": [
    "from sklearn.model_selection import train_test_split"
   ]
  },
  {
   "cell_type": "code",
   "execution_count": 6,
   "metadata": {},
   "outputs": [],
   "source": [
    "\n",
    "X_res = df.drop(columns=['Class1','Class2'],axis=1)"
   ]
  },
  {
   "cell_type": "code",
   "execution_count": 7,
   "metadata": {},
   "outputs": [
    {
     "data": {
      "text/html": [
       "<div>\n",
       "<style scoped>\n",
       "    .dataframe tbody tr th:only-of-type {\n",
       "        vertical-align: middle;\n",
       "    }\n",
       "\n",
       "    .dataframe tbody tr th {\n",
       "        vertical-align: top;\n",
       "    }\n",
       "\n",
       "    .dataframe thead th {\n",
       "        text-align: right;\n",
       "    }\n",
       "</style>\n",
       "<table border=\"1\" class=\"dataframe\">\n",
       "  <thead>\n",
       "    <tr style=\"text-align: right;\">\n",
       "      <th></th>\n",
       "      <th>Unnamed: 0</th>\n",
       "      <th>Att1</th>\n",
       "      <th>Att2</th>\n",
       "      <th>Att3</th>\n",
       "      <th>Att4</th>\n",
       "      <th>Att5</th>\n",
       "      <th>Att6</th>\n",
       "      <th>Att7</th>\n",
       "      <th>Att8</th>\n",
       "      <th>Att9</th>\n",
       "      <th>...</th>\n",
       "      <th>Att94</th>\n",
       "      <th>Att95</th>\n",
       "      <th>Att96</th>\n",
       "      <th>Att97</th>\n",
       "      <th>Att98</th>\n",
       "      <th>Att99</th>\n",
       "      <th>Att100</th>\n",
       "      <th>Att101</th>\n",
       "      <th>Att102</th>\n",
       "      <th>Att103</th>\n",
       "    </tr>\n",
       "  </thead>\n",
       "  <tbody>\n",
       "    <tr>\n",
       "      <th>0</th>\n",
       "      <td>0</td>\n",
       "      <td>0.093700</td>\n",
       "      <td>0.139771</td>\n",
       "      <td>0.062774</td>\n",
       "      <td>0.007698</td>\n",
       "      <td>0.083873</td>\n",
       "      <td>-0.119156</td>\n",
       "      <td>0.073305</td>\n",
       "      <td>0.005510</td>\n",
       "      <td>0.027523</td>\n",
       "      <td>...</td>\n",
       "      <td>0.039048</td>\n",
       "      <td>-0.018712</td>\n",
       "      <td>-0.034711</td>\n",
       "      <td>-0.038675</td>\n",
       "      <td>-0.039102</td>\n",
       "      <td>0.017429</td>\n",
       "      <td>-0.052659</td>\n",
       "      <td>-0.042402</td>\n",
       "      <td>0.118473</td>\n",
       "      <td>0.125632</td>\n",
       "    </tr>\n",
       "    <tr>\n",
       "      <th>1</th>\n",
       "      <td>1</td>\n",
       "      <td>-0.022711</td>\n",
       "      <td>-0.050504</td>\n",
       "      <td>-0.035691</td>\n",
       "      <td>-0.065434</td>\n",
       "      <td>-0.084316</td>\n",
       "      <td>-0.378560</td>\n",
       "      <td>0.038212</td>\n",
       "      <td>0.085770</td>\n",
       "      <td>0.182613</td>\n",
       "      <td>...</td>\n",
       "      <td>-0.001198</td>\n",
       "      <td>0.030594</td>\n",
       "      <td>-0.021814</td>\n",
       "      <td>0.010430</td>\n",
       "      <td>-0.013809</td>\n",
       "      <td>-0.009248</td>\n",
       "      <td>-0.027318</td>\n",
       "      <td>-0.014191</td>\n",
       "      <td>0.022783</td>\n",
       "      <td>0.123785</td>\n",
       "    </tr>\n",
       "    <tr>\n",
       "      <th>2</th>\n",
       "      <td>2</td>\n",
       "      <td>-0.090407</td>\n",
       "      <td>0.021198</td>\n",
       "      <td>0.208712</td>\n",
       "      <td>0.102752</td>\n",
       "      <td>0.119315</td>\n",
       "      <td>0.041729</td>\n",
       "      <td>-0.021728</td>\n",
       "      <td>0.019603</td>\n",
       "      <td>-0.063853</td>\n",
       "      <td>...</td>\n",
       "      <td>0.195777</td>\n",
       "      <td>0.022294</td>\n",
       "      <td>0.012583</td>\n",
       "      <td>0.002233</td>\n",
       "      <td>-0.002072</td>\n",
       "      <td>-0.010981</td>\n",
       "      <td>0.007615</td>\n",
       "      <td>-0.063378</td>\n",
       "      <td>-0.084181</td>\n",
       "      <td>-0.034402</td>\n",
       "    </tr>\n",
       "    <tr>\n",
       "      <th>3</th>\n",
       "      <td>3</td>\n",
       "      <td>-0.085235</td>\n",
       "      <td>0.009540</td>\n",
       "      <td>-0.013228</td>\n",
       "      <td>0.094063</td>\n",
       "      <td>-0.013592</td>\n",
       "      <td>-0.030719</td>\n",
       "      <td>-0.116062</td>\n",
       "      <td>-0.131674</td>\n",
       "      <td>-0.165448</td>\n",
       "      <td>...</td>\n",
       "      <td>0.001189</td>\n",
       "      <td>-0.066241</td>\n",
       "      <td>-0.046999</td>\n",
       "      <td>-0.066604</td>\n",
       "      <td>-0.055773</td>\n",
       "      <td>-0.041941</td>\n",
       "      <td>0.051066</td>\n",
       "      <td>0.004976</td>\n",
       "      <td>0.193972</td>\n",
       "      <td>0.131866</td>\n",
       "    </tr>\n",
       "    <tr>\n",
       "      <th>4</th>\n",
       "      <td>4</td>\n",
       "      <td>-0.088765</td>\n",
       "      <td>-0.026743</td>\n",
       "      <td>0.002075</td>\n",
       "      <td>-0.043819</td>\n",
       "      <td>-0.005465</td>\n",
       "      <td>0.004306</td>\n",
       "      <td>-0.055865</td>\n",
       "      <td>-0.071484</td>\n",
       "      <td>-0.159025</td>\n",
       "      <td>...</td>\n",
       "      <td>-0.035045</td>\n",
       "      <td>-0.080882</td>\n",
       "      <td>0.028468</td>\n",
       "      <td>-0.073576</td>\n",
       "      <td>0.050630</td>\n",
       "      <td>0.084832</td>\n",
       "      <td>-0.019570</td>\n",
       "      <td>-0.021650</td>\n",
       "      <td>-0.068326</td>\n",
       "      <td>-0.091155</td>\n",
       "    </tr>\n",
       "  </tbody>\n",
       "</table>\n",
       "<p>5 rows × 104 columns</p>\n",
       "</div>"
      ],
      "text/plain": [
       "   Unnamed: 0      Att1      Att2      Att3      Att4      Att5      Att6  \\\n",
       "0           0  0.093700  0.139771  0.062774  0.007698  0.083873 -0.119156   \n",
       "1           1 -0.022711 -0.050504 -0.035691 -0.065434 -0.084316 -0.378560   \n",
       "2           2 -0.090407  0.021198  0.208712  0.102752  0.119315  0.041729   \n",
       "3           3 -0.085235  0.009540 -0.013228  0.094063 -0.013592 -0.030719   \n",
       "4           4 -0.088765 -0.026743  0.002075 -0.043819 -0.005465  0.004306   \n",
       "\n",
       "       Att7      Att8      Att9  ...     Att94     Att95     Att96     Att97  \\\n",
       "0  0.073305  0.005510  0.027523  ...  0.039048 -0.018712 -0.034711 -0.038675   \n",
       "1  0.038212  0.085770  0.182613  ... -0.001198  0.030594 -0.021814  0.010430   \n",
       "2 -0.021728  0.019603 -0.063853  ...  0.195777  0.022294  0.012583  0.002233   \n",
       "3 -0.116062 -0.131674 -0.165448  ...  0.001189 -0.066241 -0.046999 -0.066604   \n",
       "4 -0.055865 -0.071484 -0.159025  ... -0.035045 -0.080882  0.028468 -0.073576   \n",
       "\n",
       "      Att98     Att99    Att100    Att101    Att102    Att103  \n",
       "0 -0.039102  0.017429 -0.052659 -0.042402  0.118473  0.125632  \n",
       "1 -0.013809 -0.009248 -0.027318 -0.014191  0.022783  0.123785  \n",
       "2 -0.002072 -0.010981  0.007615 -0.063378 -0.084181 -0.034402  \n",
       "3 -0.055773 -0.041941  0.051066  0.004976  0.193972  0.131866  \n",
       "4  0.050630  0.084832 -0.019570 -0.021650 -0.068326 -0.091155  \n",
       "\n",
       "[5 rows x 104 columns]"
      ]
     },
     "execution_count": 7,
     "metadata": {},
     "output_type": "execute_result"
    }
   ],
   "source": [
    "X_res.head()"
   ]
  },
  {
   "cell_type": "code",
   "execution_count": 8,
   "metadata": {},
   "outputs": [],
   "source": [
    "y_res = df[['Class1','Class2']]"
   ]
  },
  {
   "cell_type": "code",
   "execution_count": 9,
   "metadata": {},
   "outputs": [
    {
     "data": {
      "text/html": [
       "<div>\n",
       "<style scoped>\n",
       "    .dataframe tbody tr th:only-of-type {\n",
       "        vertical-align: middle;\n",
       "    }\n",
       "\n",
       "    .dataframe tbody tr th {\n",
       "        vertical-align: top;\n",
       "    }\n",
       "\n",
       "    .dataframe thead th {\n",
       "        text-align: right;\n",
       "    }\n",
       "</style>\n",
       "<table border=\"1\" class=\"dataframe\">\n",
       "  <thead>\n",
       "    <tr style=\"text-align: right;\">\n",
       "      <th></th>\n",
       "      <th>Class1</th>\n",
       "      <th>Class2</th>\n",
       "    </tr>\n",
       "  </thead>\n",
       "  <tbody>\n",
       "    <tr>\n",
       "      <th>0</th>\n",
       "      <td>0</td>\n",
       "      <td>0</td>\n",
       "    </tr>\n",
       "    <tr>\n",
       "      <th>1</th>\n",
       "      <td>0</td>\n",
       "      <td>0</td>\n",
       "    </tr>\n",
       "    <tr>\n",
       "      <th>2</th>\n",
       "      <td>0</td>\n",
       "      <td>1</td>\n",
       "    </tr>\n",
       "    <tr>\n",
       "      <th>3</th>\n",
       "      <td>0</td>\n",
       "      <td>0</td>\n",
       "    </tr>\n",
       "    <tr>\n",
       "      <th>4</th>\n",
       "      <td>1</td>\n",
       "      <td>1</td>\n",
       "    </tr>\n",
       "  </tbody>\n",
       "</table>\n",
       "</div>"
      ],
      "text/plain": [
       "   Class1  Class2\n",
       "0       0       0\n",
       "1       0       0\n",
       "2       0       1\n",
       "3       0       0\n",
       "4       1       1"
      ]
     },
     "execution_count": 9,
     "metadata": {},
     "output_type": "execute_result"
    }
   ],
   "source": [
    "y_res.head()"
   ]
  },
  {
   "cell_type": "code",
   "execution_count": 10,
   "metadata": {},
   "outputs": [],
   "source": [
    "X_train, X_test, y_train, y_test = train_test_split(X_res,y_res, test_size=0.3, random_state=42)\n"
   ]
  },
  {
   "cell_type": "code",
   "execution_count": 11,
   "metadata": {},
   "outputs": [
    {
     "data": {
      "text/html": [
       "<div>\n",
       "<style scoped>\n",
       "    .dataframe tbody tr th:only-of-type {\n",
       "        vertical-align: middle;\n",
       "    }\n",
       "\n",
       "    .dataframe tbody tr th {\n",
       "        vertical-align: top;\n",
       "    }\n",
       "\n",
       "    .dataframe thead th {\n",
       "        text-align: right;\n",
       "    }\n",
       "</style>\n",
       "<table border=\"1\" class=\"dataframe\">\n",
       "  <thead>\n",
       "    <tr style=\"text-align: right;\">\n",
       "      <th></th>\n",
       "      <th>Class1</th>\n",
       "      <th>Class2</th>\n",
       "    </tr>\n",
       "  </thead>\n",
       "  <tbody>\n",
       "    <tr>\n",
       "      <th>485</th>\n",
       "      <td>1</td>\n",
       "      <td>1</td>\n",
       "    </tr>\n",
       "    <tr>\n",
       "      <th>527</th>\n",
       "      <td>0</td>\n",
       "      <td>1</td>\n",
       "    </tr>\n",
       "    <tr>\n",
       "      <th>199</th>\n",
       "      <td>0</td>\n",
       "      <td>0</td>\n",
       "    </tr>\n",
       "    <tr>\n",
       "      <th>889</th>\n",
       "      <td>0</td>\n",
       "      <td>0</td>\n",
       "    </tr>\n",
       "    <tr>\n",
       "      <th>844</th>\n",
       "      <td>0</td>\n",
       "      <td>1</td>\n",
       "    </tr>\n",
       "  </tbody>\n",
       "</table>\n",
       "</div>"
      ],
      "text/plain": [
       "     Class1  Class2\n",
       "485       1       1\n",
       "527       0       1\n",
       "199       0       0\n",
       "889       0       0\n",
       "844       0       1"
      ]
     },
     "execution_count": 11,
     "metadata": {},
     "output_type": "execute_result"
    }
   ],
   "source": [
    "y_train.head()"
   ]
  },
  {
   "cell_type": "code",
   "execution_count": 12,
   "metadata": {},
   "outputs": [
    {
     "data": {
      "text/html": [
       "<div>\n",
       "<style scoped>\n",
       "    .dataframe tbody tr th:only-of-type {\n",
       "        vertical-align: middle;\n",
       "    }\n",
       "\n",
       "    .dataframe tbody tr th {\n",
       "        vertical-align: top;\n",
       "    }\n",
       "\n",
       "    .dataframe thead th {\n",
       "        text-align: right;\n",
       "    }\n",
       "</style>\n",
       "<table border=\"1\" class=\"dataframe\">\n",
       "  <thead>\n",
       "    <tr style=\"text-align: right;\">\n",
       "      <th></th>\n",
       "      <th>Unnamed: 0</th>\n",
       "      <th>Att1</th>\n",
       "      <th>Att2</th>\n",
       "      <th>Att3</th>\n",
       "      <th>Att4</th>\n",
       "      <th>Att5</th>\n",
       "      <th>Att6</th>\n",
       "      <th>Att7</th>\n",
       "      <th>Att8</th>\n",
       "      <th>Att9</th>\n",
       "      <th>...</th>\n",
       "      <th>Att94</th>\n",
       "      <th>Att95</th>\n",
       "      <th>Att96</th>\n",
       "      <th>Att97</th>\n",
       "      <th>Att98</th>\n",
       "      <th>Att99</th>\n",
       "      <th>Att100</th>\n",
       "      <th>Att101</th>\n",
       "      <th>Att102</th>\n",
       "      <th>Att103</th>\n",
       "    </tr>\n",
       "  </thead>\n",
       "  <tbody>\n",
       "    <tr>\n",
       "      <th>485</th>\n",
       "      <td>485</td>\n",
       "      <td>-0.083206</td>\n",
       "      <td>-0.121429</td>\n",
       "      <td>-0.159163</td>\n",
       "      <td>-0.078547</td>\n",
       "      <td>-0.055254</td>\n",
       "      <td>-0.013542</td>\n",
       "      <td>0.029635</td>\n",
       "      <td>-0.084545</td>\n",
       "      <td>0.013853</td>\n",
       "      <td>...</td>\n",
       "      <td>-0.018279</td>\n",
       "      <td>-0.079861</td>\n",
       "      <td>-0.089085</td>\n",
       "      <td>-0.072313</td>\n",
       "      <td>-0.065463</td>\n",
       "      <td>-0.024603</td>\n",
       "      <td>0.052415</td>\n",
       "      <td>-0.066469</td>\n",
       "      <td>-0.085428</td>\n",
       "      <td>-0.001889</td>\n",
       "    </tr>\n",
       "    <tr>\n",
       "      <th>527</th>\n",
       "      <td>527</td>\n",
       "      <td>-0.188013</td>\n",
       "      <td>0.055309</td>\n",
       "      <td>0.295751</td>\n",
       "      <td>0.251167</td>\n",
       "      <td>0.043524</td>\n",
       "      <td>0.044886</td>\n",
       "      <td>-0.104978</td>\n",
       "      <td>-0.098661</td>\n",
       "      <td>-0.119595</td>\n",
       "      <td>...</td>\n",
       "      <td>-0.007862</td>\n",
       "      <td>-0.021482</td>\n",
       "      <td>-0.019658</td>\n",
       "      <td>-0.008632</td>\n",
       "      <td>-0.006644</td>\n",
       "      <td>0.007754</td>\n",
       "      <td>-0.024957</td>\n",
       "      <td>-0.013506</td>\n",
       "      <td>0.022710</td>\n",
       "      <td>0.125134</td>\n",
       "    </tr>\n",
       "    <tr>\n",
       "      <th>199</th>\n",
       "      <td>199</td>\n",
       "      <td>-0.036868</td>\n",
       "      <td>0.100721</td>\n",
       "      <td>0.127483</td>\n",
       "      <td>0.179530</td>\n",
       "      <td>-0.039828</td>\n",
       "      <td>0.152586</td>\n",
       "      <td>0.009898</td>\n",
       "      <td>0.081388</td>\n",
       "      <td>0.071926</td>\n",
       "      <td>...</td>\n",
       "      <td>0.117595</td>\n",
       "      <td>0.026306</td>\n",
       "      <td>-0.022864</td>\n",
       "      <td>-0.006615</td>\n",
       "      <td>-0.007882</td>\n",
       "      <td>-0.012375</td>\n",
       "      <td>-0.038936</td>\n",
       "      <td>0.017173</td>\n",
       "      <td>0.013979</td>\n",
       "      <td>0.111506</td>\n",
       "    </tr>\n",
       "    <tr>\n",
       "      <th>889</th>\n",
       "      <td>889</td>\n",
       "      <td>0.205915</td>\n",
       "      <td>-0.046143</td>\n",
       "      <td>-0.028154</td>\n",
       "      <td>-0.033129</td>\n",
       "      <td>0.150096</td>\n",
       "      <td>0.132866</td>\n",
       "      <td>0.204030</td>\n",
       "      <td>0.116630</td>\n",
       "      <td>0.202036</td>\n",
       "      <td>...</td>\n",
       "      <td>-0.054228</td>\n",
       "      <td>0.040322</td>\n",
       "      <td>0.234304</td>\n",
       "      <td>0.055405</td>\n",
       "      <td>0.047838</td>\n",
       "      <td>-0.043631</td>\n",
       "      <td>0.169649</td>\n",
       "      <td>-0.063313</td>\n",
       "      <td>-0.028579</td>\n",
       "      <td>0.064455</td>\n",
       "    </tr>\n",
       "    <tr>\n",
       "      <th>844</th>\n",
       "      <td>844</td>\n",
       "      <td>-0.055990</td>\n",
       "      <td>0.041369</td>\n",
       "      <td>0.060838</td>\n",
       "      <td>0.033668</td>\n",
       "      <td>0.067567</td>\n",
       "      <td>-0.005974</td>\n",
       "      <td>-0.063686</td>\n",
       "      <td>0.028767</td>\n",
       "      <td>-0.053437</td>\n",
       "      <td>...</td>\n",
       "      <td>-0.032551</td>\n",
       "      <td>-0.061192</td>\n",
       "      <td>-0.009831</td>\n",
       "      <td>0.065861</td>\n",
       "      <td>0.095358</td>\n",
       "      <td>-0.044046</td>\n",
       "      <td>0.045474</td>\n",
       "      <td>0.017662</td>\n",
       "      <td>0.007364</td>\n",
       "      <td>0.115215</td>\n",
       "    </tr>\n",
       "  </tbody>\n",
       "</table>\n",
       "<p>5 rows × 104 columns</p>\n",
       "</div>"
      ],
      "text/plain": [
       "     Unnamed: 0      Att1      Att2      Att3      Att4      Att5      Att6  \\\n",
       "485         485 -0.083206 -0.121429 -0.159163 -0.078547 -0.055254 -0.013542   \n",
       "527         527 -0.188013  0.055309  0.295751  0.251167  0.043524  0.044886   \n",
       "199         199 -0.036868  0.100721  0.127483  0.179530 -0.039828  0.152586   \n",
       "889         889  0.205915 -0.046143 -0.028154 -0.033129  0.150096  0.132866   \n",
       "844         844 -0.055990  0.041369  0.060838  0.033668  0.067567 -0.005974   \n",
       "\n",
       "         Att7      Att8      Att9  ...     Att94     Att95     Att96  \\\n",
       "485  0.029635 -0.084545  0.013853  ... -0.018279 -0.079861 -0.089085   \n",
       "527 -0.104978 -0.098661 -0.119595  ... -0.007862 -0.021482 -0.019658   \n",
       "199  0.009898  0.081388  0.071926  ...  0.117595  0.026306 -0.022864   \n",
       "889  0.204030  0.116630  0.202036  ... -0.054228  0.040322  0.234304   \n",
       "844 -0.063686  0.028767 -0.053437  ... -0.032551 -0.061192 -0.009831   \n",
       "\n",
       "        Att97     Att98     Att99    Att100    Att101    Att102    Att103  \n",
       "485 -0.072313 -0.065463 -0.024603  0.052415 -0.066469 -0.085428 -0.001889  \n",
       "527 -0.008632 -0.006644  0.007754 -0.024957 -0.013506  0.022710  0.125134  \n",
       "199 -0.006615 -0.007882 -0.012375 -0.038936  0.017173  0.013979  0.111506  \n",
       "889  0.055405  0.047838 -0.043631  0.169649 -0.063313 -0.028579  0.064455  \n",
       "844  0.065861  0.095358 -0.044046  0.045474  0.017662  0.007364  0.115215  \n",
       "\n",
       "[5 rows x 104 columns]"
      ]
     },
     "execution_count": 12,
     "metadata": {},
     "output_type": "execute_result"
    }
   ],
   "source": [
    "X_train.head()"
   ]
  },
  {
   "cell_type": "markdown",
   "metadata": {},
   "source": [
    "# First tranning 2 simple Model (with one target)"
   ]
  },
  {
   "cell_type": "code",
   "execution_count": 13,
   "metadata": {},
   "outputs": [],
   "source": [
    "y_train_1 = y_train['Class1']\n",
    "y_train_2 = y_train['Class2']"
   ]
  },
  {
   "cell_type": "code",
   "execution_count": 14,
   "metadata": {},
   "outputs": [],
   "source": [
    "y_test_1 = y_test['Class1']\n",
    "y_test_2 = y_test['Class2']"
   ]
  },
  {
   "cell_type": "code",
   "execution_count": 15,
   "metadata": {},
   "outputs": [],
   "source": [
    "from sklearn.ensemble import RandomForestClassifier\n",
    "from sklearn.metrics import accuracy_score,confusion_matrix,classification_report"
   ]
  },
  {
   "cell_type": "markdown",
   "metadata": {},
   "source": [
    "# model first with target variable class 1"
   ]
  },
  {
   "cell_type": "code",
   "execution_count": 16,
   "metadata": {},
   "outputs": [
    {
     "data": {
      "text/plain": [
       "RandomForestClassifier(bootstrap=True, ccp_alpha=0.0, class_weight=None,\n",
       "                       criterion='gini', max_depth=None, max_features='auto',\n",
       "                       max_leaf_nodes=None, max_samples=None,\n",
       "                       min_impurity_decrease=0.0, min_impurity_split=None,\n",
       "                       min_samples_leaf=1, min_samples_split=2,\n",
       "                       min_weight_fraction_leaf=0.0, n_estimators=100,\n",
       "                       n_jobs=None, oob_score=False, random_state=None,\n",
       "                       verbose=0, warm_start=False)"
      ]
     },
     "execution_count": 16,
     "metadata": {},
     "output_type": "execute_result"
    }
   ],
   "source": [
    "model = RandomForestClassifier(bootstrap=True, ccp_alpha=0.0, class_weight=None,\n",
    "                       criterion='gini', max_depth=None, max_features='auto',\n",
    "                       max_leaf_nodes=None, max_samples=None,\n",
    "                       min_impurity_decrease=0.0, min_impurity_split=None,\n",
    "                       min_samples_leaf=1, min_samples_split=2,\n",
    "                       min_weight_fraction_leaf=0.0, n_estimators=100,\n",
    "                       n_jobs=None, oob_score=False, random_state=None,\n",
    "                       verbose=0, warm_start=False)\n",
    "model "
   ]
  },
  {
   "cell_type": "code",
   "execution_count": 17,
   "metadata": {},
   "outputs": [
    {
     "name": "stdout",
     "output_type": "stream",
     "text": [
      "0.7666666666666667\n",
      "[[286  15]\n",
      " [ 90  59]]\n",
      "              precision    recall  f1-score   support\n",
      "\n",
      "           0       0.76      0.95      0.84       301\n",
      "           1       0.80      0.40      0.53       149\n",
      "\n",
      "    accuracy                           0.77       450\n",
      "   macro avg       0.78      0.67      0.69       450\n",
      "weighted avg       0.77      0.77      0.74       450\n",
      "\n"
     ]
    }
   ],
   "source": [
    "model.fit(X_train,y_train_1)\n",
    "y_pred = model.predict(X_test)\n",
    "print(accuracy_score(y_test_1,y_pred))\n",
    "print(confusion_matrix(y_test_1,y_pred))\n",
    "print(classification_report(y_test_1,y_pred))"
   ]
  },
  {
   "cell_type": "markdown",
   "metadata": {},
   "source": [
    "# F1 score is 0.79 %"
   ]
  },
  {
   "cell_type": "markdown",
   "metadata": {},
   "source": [
    "# model Second  with target variable class 2"
   ]
  },
  {
   "cell_type": "code",
   "execution_count": 18,
   "metadata": {},
   "outputs": [
    {
     "name": "stdout",
     "output_type": "stream",
     "text": [
      "0.6422222222222222\n",
      "[[208  49]\n",
      " [112  81]]\n",
      "              precision    recall  f1-score   support\n",
      "\n",
      "           0       0.65      0.81      0.72       257\n",
      "           1       0.62      0.42      0.50       193\n",
      "\n",
      "    accuracy                           0.64       450\n",
      "   macro avg       0.64      0.61      0.61       450\n",
      "weighted avg       0.64      0.64      0.63       450\n",
      "\n"
     ]
    }
   ],
   "source": [
    "model.fit(X_train,y_train_2)\n",
    "y_pred = model.predict(X_test)\n",
    "print(accuracy_score(y_test_2,y_pred))\n",
    "print(confusion_matrix(y_test_2,y_pred))\n",
    "print(classification_report(y_test_2,y_pred))"
   ]
  },
  {
   "cell_type": "markdown",
   "metadata": {},
   "source": [
    "# As we can see that second model with target variable class 2 has a F1 score is 0.59 %"
   ]
  },
  {
   "cell_type": "markdown",
   "metadata": {},
   "source": [
    "# Checking how many rows has both target 1 & 1 and target 0 & 0 and target 1 & 0 or 0 & 0"
   ]
  },
  {
   "cell_type": "code",
   "execution_count": 19,
   "metadata": {},
   "outputs": [
    {
     "name": "stdout",
     "output_type": "stream",
     "text": [
      "Target one and one for both class  258\n",
      "Target zero and zero for both class  69\n",
      "Target one and zero or zero and one for both class  723\n",
      "(1050, 104)\n"
     ]
    }
   ],
   "source": [
    "one = 0\n",
    "zero = 0\n",
    "zero_one = 0 \n",
    "\n",
    "for i in y_train.values:\n",
    "    if i[0] and i[1] == 1:\n",
    "        one+=1\n",
    "    elif  i[0] and i[1] == 0:\n",
    "        zero +=1\n",
    "    else :\n",
    "        zero_one +=1\n",
    "        \n",
    "print(\"Target one and one for both class \",one)\n",
    "print(\"Target zero and zero for both class \",zero)\n",
    "print(\"Target one and zero or zero and one for both class \",zero_one)\n",
    "print(X_train.shape)"
   ]
  },
  {
   "cell_type": "markdown",
   "metadata": {},
   "source": [
    "# As we can see that total train set rows are 1050 and sum of 258+69+723 = 1050 "
   ]
  },
  {
   "cell_type": "markdown",
   "metadata": {},
   "source": [
    "# Now using the concept of classifier chains  to increase the F1 Score of second model with target  variable class 2 ( which is 64 %)"
   ]
  },
  {
   "cell_type": "markdown",
   "metadata": {},
   "source": [
    "# Part 2\n",
    "\n",
    "\n"
   ]
  },
  {
   "cell_type": "markdown",
   "metadata": {},
   "source": [
    "# Cal the Pridict prob with same model hyperparameter on whole data set for class 1 so that we can create a new coloum for second model"
   ]
  },
  {
   "cell_type": "code",
   "execution_count": 20,
   "metadata": {},
   "outputs": [],
   "source": [
    "model = RandomForestClassifier(bootstrap=True, ccp_alpha=0.0, class_weight=None,\n",
    "                       criterion='gini', max_depth=None, max_features='auto',\n",
    "                       max_leaf_nodes=None, max_samples=None,\n",
    "                       min_impurity_decrease=0.0, min_impurity_split=None,\n",
    "                       min_samples_leaf=1, min_samples_split=2,\n",
    "                       min_weight_fraction_leaf=0.0, n_estimators=100,\n",
    "                       n_jobs=None, oob_score=False, random_state=None,\n",
    "                       verbose=0, warm_start=False)"
   ]
  },
  {
   "cell_type": "code",
   "execution_count": 21,
   "metadata": {},
   "outputs": [
    {
     "data": {
      "text/html": [
       "<div>\n",
       "<style scoped>\n",
       "    .dataframe tbody tr th:only-of-type {\n",
       "        vertical-align: middle;\n",
       "    }\n",
       "\n",
       "    .dataframe tbody tr th {\n",
       "        vertical-align: top;\n",
       "    }\n",
       "\n",
       "    .dataframe thead th {\n",
       "        text-align: right;\n",
       "    }\n",
       "</style>\n",
       "<table border=\"1\" class=\"dataframe\">\n",
       "  <thead>\n",
       "    <tr style=\"text-align: right;\">\n",
       "      <th></th>\n",
       "      <th>Unnamed: 0</th>\n",
       "      <th>Att1</th>\n",
       "      <th>Att2</th>\n",
       "      <th>Att3</th>\n",
       "      <th>Att4</th>\n",
       "      <th>Att5</th>\n",
       "      <th>Att6</th>\n",
       "      <th>Att7</th>\n",
       "      <th>Att8</th>\n",
       "      <th>Att9</th>\n",
       "      <th>...</th>\n",
       "      <th>Att94</th>\n",
       "      <th>Att95</th>\n",
       "      <th>Att96</th>\n",
       "      <th>Att97</th>\n",
       "      <th>Att98</th>\n",
       "      <th>Att99</th>\n",
       "      <th>Att100</th>\n",
       "      <th>Att101</th>\n",
       "      <th>Att102</th>\n",
       "      <th>Att103</th>\n",
       "    </tr>\n",
       "  </thead>\n",
       "  <tbody>\n",
       "    <tr>\n",
       "      <th>0</th>\n",
       "      <td>0</td>\n",
       "      <td>0.093700</td>\n",
       "      <td>0.139771</td>\n",
       "      <td>0.062774</td>\n",
       "      <td>0.007698</td>\n",
       "      <td>0.083873</td>\n",
       "      <td>-0.119156</td>\n",
       "      <td>0.073305</td>\n",
       "      <td>0.005510</td>\n",
       "      <td>0.027523</td>\n",
       "      <td>...</td>\n",
       "      <td>0.039048</td>\n",
       "      <td>-0.018712</td>\n",
       "      <td>-0.034711</td>\n",
       "      <td>-0.038675</td>\n",
       "      <td>-0.039102</td>\n",
       "      <td>0.017429</td>\n",
       "      <td>-0.052659</td>\n",
       "      <td>-0.042402</td>\n",
       "      <td>0.118473</td>\n",
       "      <td>0.125632</td>\n",
       "    </tr>\n",
       "    <tr>\n",
       "      <th>1</th>\n",
       "      <td>1</td>\n",
       "      <td>-0.022711</td>\n",
       "      <td>-0.050504</td>\n",
       "      <td>-0.035691</td>\n",
       "      <td>-0.065434</td>\n",
       "      <td>-0.084316</td>\n",
       "      <td>-0.378560</td>\n",
       "      <td>0.038212</td>\n",
       "      <td>0.085770</td>\n",
       "      <td>0.182613</td>\n",
       "      <td>...</td>\n",
       "      <td>-0.001198</td>\n",
       "      <td>0.030594</td>\n",
       "      <td>-0.021814</td>\n",
       "      <td>0.010430</td>\n",
       "      <td>-0.013809</td>\n",
       "      <td>-0.009248</td>\n",
       "      <td>-0.027318</td>\n",
       "      <td>-0.014191</td>\n",
       "      <td>0.022783</td>\n",
       "      <td>0.123785</td>\n",
       "    </tr>\n",
       "    <tr>\n",
       "      <th>2</th>\n",
       "      <td>2</td>\n",
       "      <td>-0.090407</td>\n",
       "      <td>0.021198</td>\n",
       "      <td>0.208712</td>\n",
       "      <td>0.102752</td>\n",
       "      <td>0.119315</td>\n",
       "      <td>0.041729</td>\n",
       "      <td>-0.021728</td>\n",
       "      <td>0.019603</td>\n",
       "      <td>-0.063853</td>\n",
       "      <td>...</td>\n",
       "      <td>0.195777</td>\n",
       "      <td>0.022294</td>\n",
       "      <td>0.012583</td>\n",
       "      <td>0.002233</td>\n",
       "      <td>-0.002072</td>\n",
       "      <td>-0.010981</td>\n",
       "      <td>0.007615</td>\n",
       "      <td>-0.063378</td>\n",
       "      <td>-0.084181</td>\n",
       "      <td>-0.034402</td>\n",
       "    </tr>\n",
       "    <tr>\n",
       "      <th>3</th>\n",
       "      <td>3</td>\n",
       "      <td>-0.085235</td>\n",
       "      <td>0.009540</td>\n",
       "      <td>-0.013228</td>\n",
       "      <td>0.094063</td>\n",
       "      <td>-0.013592</td>\n",
       "      <td>-0.030719</td>\n",
       "      <td>-0.116062</td>\n",
       "      <td>-0.131674</td>\n",
       "      <td>-0.165448</td>\n",
       "      <td>...</td>\n",
       "      <td>0.001189</td>\n",
       "      <td>-0.066241</td>\n",
       "      <td>-0.046999</td>\n",
       "      <td>-0.066604</td>\n",
       "      <td>-0.055773</td>\n",
       "      <td>-0.041941</td>\n",
       "      <td>0.051066</td>\n",
       "      <td>0.004976</td>\n",
       "      <td>0.193972</td>\n",
       "      <td>0.131866</td>\n",
       "    </tr>\n",
       "    <tr>\n",
       "      <th>4</th>\n",
       "      <td>4</td>\n",
       "      <td>-0.088765</td>\n",
       "      <td>-0.026743</td>\n",
       "      <td>0.002075</td>\n",
       "      <td>-0.043819</td>\n",
       "      <td>-0.005465</td>\n",
       "      <td>0.004306</td>\n",
       "      <td>-0.055865</td>\n",
       "      <td>-0.071484</td>\n",
       "      <td>-0.159025</td>\n",
       "      <td>...</td>\n",
       "      <td>-0.035045</td>\n",
       "      <td>-0.080882</td>\n",
       "      <td>0.028468</td>\n",
       "      <td>-0.073576</td>\n",
       "      <td>0.050630</td>\n",
       "      <td>0.084832</td>\n",
       "      <td>-0.019570</td>\n",
       "      <td>-0.021650</td>\n",
       "      <td>-0.068326</td>\n",
       "      <td>-0.091155</td>\n",
       "    </tr>\n",
       "  </tbody>\n",
       "</table>\n",
       "<p>5 rows × 104 columns</p>\n",
       "</div>"
      ],
      "text/plain": [
       "   Unnamed: 0      Att1      Att2      Att3      Att4      Att5      Att6  \\\n",
       "0           0  0.093700  0.139771  0.062774  0.007698  0.083873 -0.119156   \n",
       "1           1 -0.022711 -0.050504 -0.035691 -0.065434 -0.084316 -0.378560   \n",
       "2           2 -0.090407  0.021198  0.208712  0.102752  0.119315  0.041729   \n",
       "3           3 -0.085235  0.009540 -0.013228  0.094063 -0.013592 -0.030719   \n",
       "4           4 -0.088765 -0.026743  0.002075 -0.043819 -0.005465  0.004306   \n",
       "\n",
       "       Att7      Att8      Att9  ...     Att94     Att95     Att96     Att97  \\\n",
       "0  0.073305  0.005510  0.027523  ...  0.039048 -0.018712 -0.034711 -0.038675   \n",
       "1  0.038212  0.085770  0.182613  ... -0.001198  0.030594 -0.021814  0.010430   \n",
       "2 -0.021728  0.019603 -0.063853  ...  0.195777  0.022294  0.012583  0.002233   \n",
       "3 -0.116062 -0.131674 -0.165448  ...  0.001189 -0.066241 -0.046999 -0.066604   \n",
       "4 -0.055865 -0.071484 -0.159025  ... -0.035045 -0.080882  0.028468 -0.073576   \n",
       "\n",
       "      Att98     Att99    Att100    Att101    Att102    Att103  \n",
       "0 -0.039102  0.017429 -0.052659 -0.042402  0.118473  0.125632  \n",
       "1 -0.013809 -0.009248 -0.027318 -0.014191  0.022783  0.123785  \n",
       "2 -0.002072 -0.010981  0.007615 -0.063378 -0.084181 -0.034402  \n",
       "3 -0.055773 -0.041941  0.051066  0.004976  0.193972  0.131866  \n",
       "4  0.050630  0.084832 -0.019570 -0.021650 -0.068326 -0.091155  \n",
       "\n",
       "[5 rows x 104 columns]"
      ]
     },
     "execution_count": 21,
     "metadata": {},
     "output_type": "execute_result"
    }
   ],
   "source": [
    "X_res.head()"
   ]
  },
  {
   "cell_type": "code",
   "execution_count": 22,
   "metadata": {},
   "outputs": [
    {
     "data": {
      "text/html": [
       "<div>\n",
       "<style scoped>\n",
       "    .dataframe tbody tr th:only-of-type {\n",
       "        vertical-align: middle;\n",
       "    }\n",
       "\n",
       "    .dataframe tbody tr th {\n",
       "        vertical-align: top;\n",
       "    }\n",
       "\n",
       "    .dataframe thead th {\n",
       "        text-align: right;\n",
       "    }\n",
       "</style>\n",
       "<table border=\"1\" class=\"dataframe\">\n",
       "  <thead>\n",
       "    <tr style=\"text-align: right;\">\n",
       "      <th></th>\n",
       "      <th>Class1</th>\n",
       "      <th>Class2</th>\n",
       "    </tr>\n",
       "  </thead>\n",
       "  <tbody>\n",
       "    <tr>\n",
       "      <th>0</th>\n",
       "      <td>0</td>\n",
       "      <td>0</td>\n",
       "    </tr>\n",
       "    <tr>\n",
       "      <th>1</th>\n",
       "      <td>0</td>\n",
       "      <td>0</td>\n",
       "    </tr>\n",
       "    <tr>\n",
       "      <th>2</th>\n",
       "      <td>0</td>\n",
       "      <td>1</td>\n",
       "    </tr>\n",
       "    <tr>\n",
       "      <th>3</th>\n",
       "      <td>0</td>\n",
       "      <td>0</td>\n",
       "    </tr>\n",
       "    <tr>\n",
       "      <th>4</th>\n",
       "      <td>1</td>\n",
       "      <td>1</td>\n",
       "    </tr>\n",
       "  </tbody>\n",
       "</table>\n",
       "</div>"
      ],
      "text/plain": [
       "   Class1  Class2\n",
       "0       0       0\n",
       "1       0       0\n",
       "2       0       1\n",
       "3       0       0\n",
       "4       1       1"
      ]
     },
     "execution_count": 22,
     "metadata": {},
     "output_type": "execute_result"
    }
   ],
   "source": [
    "y_res.head()"
   ]
  },
  {
   "cell_type": "code",
   "execution_count": 24,
   "metadata": {},
   "outputs": [
    {
     "data": {
      "text/plain": [
       "0    0\n",
       "1    0\n",
       "2    0\n",
       "3    0\n",
       "4    1\n",
       "Name: Class1, dtype: int64"
      ]
     },
     "execution_count": 24,
     "metadata": {},
     "output_type": "execute_result"
    }
   ],
   "source": [
    "y_res_2 = y_res['Class1']\n",
    "y_res_2.head()"
   ]
  },
  {
   "cell_type": "code",
   "execution_count": 25,
   "metadata": {},
   "outputs": [
    {
     "data": {
      "text/plain": [
       "RandomForestClassifier(bootstrap=True, ccp_alpha=0.0, class_weight=None,\n",
       "                       criterion='gini', max_depth=None, max_features='auto',\n",
       "                       max_leaf_nodes=None, max_samples=None,\n",
       "                       min_impurity_decrease=0.0, min_impurity_split=None,\n",
       "                       min_samples_leaf=1, min_samples_split=2,\n",
       "                       min_weight_fraction_leaf=0.0, n_estimators=100,\n",
       "                       n_jobs=None, oob_score=False, random_state=None,\n",
       "                       verbose=0, warm_start=False)"
      ]
     },
     "execution_count": 25,
     "metadata": {},
     "output_type": "execute_result"
    }
   ],
   "source": [
    "model.fit(X_res,y_res_2)\n",
    "\n"
   ]
  },
  {
   "cell_type": "code",
   "execution_count": 26,
   "metadata": {},
   "outputs": [],
   "source": [
    "prob_class1 = model.predict_proba(X_res)"
   ]
  },
  {
   "cell_type": "code",
   "execution_count": 27,
   "metadata": {},
   "outputs": [
    {
     "data": {
      "text/plain": [
       "(1500, 2)"
      ]
     },
     "execution_count": 27,
     "metadata": {},
     "output_type": "execute_result"
    }
   ],
   "source": [
    "prob_class1.shape"
   ]
  },
  {
   "cell_type": "code",
   "execution_count": 32,
   "metadata": {},
   "outputs": [],
   "source": [
    "prob_class1 = pd.DataFrame(prob_class1[0])"
   ]
  },
  {
   "cell_type": "code",
   "execution_count": 33,
   "metadata": {},
   "outputs": [
    {
     "data": {
      "text/html": [
       "<div>\n",
       "<style scoped>\n",
       "    .dataframe tbody tr th:only-of-type {\n",
       "        vertical-align: middle;\n",
       "    }\n",
       "\n",
       "    .dataframe tbody tr th {\n",
       "        vertical-align: top;\n",
       "    }\n",
       "\n",
       "    .dataframe thead th {\n",
       "        text-align: right;\n",
       "    }\n",
       "</style>\n",
       "<table border=\"1\" class=\"dataframe\">\n",
       "  <thead>\n",
       "    <tr style=\"text-align: right;\">\n",
       "      <th></th>\n",
       "      <th>0</th>\n",
       "    </tr>\n",
       "  </thead>\n",
       "  <tbody>\n",
       "    <tr>\n",
       "      <th>0</th>\n",
       "      <td>0.93</td>\n",
       "    </tr>\n",
       "    <tr>\n",
       "      <th>1</th>\n",
       "      <td>0.95</td>\n",
       "    </tr>\n",
       "    <tr>\n",
       "      <th>2</th>\n",
       "      <td>0.92</td>\n",
       "    </tr>\n",
       "    <tr>\n",
       "      <th>3</th>\n",
       "      <td>0.94</td>\n",
       "    </tr>\n",
       "    <tr>\n",
       "      <th>4</th>\n",
       "      <td>0.25</td>\n",
       "    </tr>\n",
       "  </tbody>\n",
       "</table>\n",
       "</div>"
      ],
      "text/plain": [
       "      0\n",
       "0  0.93\n",
       "1  0.95\n",
       "2  0.92\n",
       "3  0.94\n",
       "4  0.25"
      ]
     },
     "execution_count": 33,
     "metadata": {},
     "output_type": "execute_result"
    }
   ],
   "source": [
    "prob_class1.head()"
   ]
  },
  {
   "cell_type": "code",
   "execution_count": 34,
   "metadata": {},
   "outputs": [],
   "source": [
    "prob_class1.columns = [\"Pred_prob_class_1\"]"
   ]
  },
  {
   "cell_type": "code",
   "execution_count": 35,
   "metadata": {},
   "outputs": [
    {
     "data": {
      "text/html": [
       "<div>\n",
       "<style scoped>\n",
       "    .dataframe tbody tr th:only-of-type {\n",
       "        vertical-align: middle;\n",
       "    }\n",
       "\n",
       "    .dataframe tbody tr th {\n",
       "        vertical-align: top;\n",
       "    }\n",
       "\n",
       "    .dataframe thead th {\n",
       "        text-align: right;\n",
       "    }\n",
       "</style>\n",
       "<table border=\"1\" class=\"dataframe\">\n",
       "  <thead>\n",
       "    <tr style=\"text-align: right;\">\n",
       "      <th></th>\n",
       "      <th>Pred_prob_class_1</th>\n",
       "    </tr>\n",
       "  </thead>\n",
       "  <tbody>\n",
       "    <tr>\n",
       "      <th>0</th>\n",
       "      <td>0.93</td>\n",
       "    </tr>\n",
       "    <tr>\n",
       "      <th>1</th>\n",
       "      <td>0.95</td>\n",
       "    </tr>\n",
       "    <tr>\n",
       "      <th>2</th>\n",
       "      <td>0.92</td>\n",
       "    </tr>\n",
       "    <tr>\n",
       "      <th>3</th>\n",
       "      <td>0.94</td>\n",
       "    </tr>\n",
       "    <tr>\n",
       "      <th>4</th>\n",
       "      <td>0.25</td>\n",
       "    </tr>\n",
       "  </tbody>\n",
       "</table>\n",
       "</div>"
      ],
      "text/plain": [
       "   Pred_prob_class_1\n",
       "0               0.93\n",
       "1               0.95\n",
       "2               0.92\n",
       "3               0.94\n",
       "4               0.25"
      ]
     },
     "execution_count": 35,
     "metadata": {},
     "output_type": "execute_result"
    }
   ],
   "source": [
    "prob_class1.head()"
   ]
  },
  {
   "cell_type": "code",
   "execution_count": 37,
   "metadata": {},
   "outputs": [],
   "source": [
    "X_res_1 = pd.concat([X_res,prob_class1],axis=1)"
   ]
  },
  {
   "cell_type": "code",
   "execution_count": 38,
   "metadata": {},
   "outputs": [
    {
     "data": {
      "text/html": [
       "<div>\n",
       "<style scoped>\n",
       "    .dataframe tbody tr th:only-of-type {\n",
       "        vertical-align: middle;\n",
       "    }\n",
       "\n",
       "    .dataframe tbody tr th {\n",
       "        vertical-align: top;\n",
       "    }\n",
       "\n",
       "    .dataframe thead th {\n",
       "        text-align: right;\n",
       "    }\n",
       "</style>\n",
       "<table border=\"1\" class=\"dataframe\">\n",
       "  <thead>\n",
       "    <tr style=\"text-align: right;\">\n",
       "      <th></th>\n",
       "      <th>Unnamed: 0</th>\n",
       "      <th>Att1</th>\n",
       "      <th>Att2</th>\n",
       "      <th>Att3</th>\n",
       "      <th>Att4</th>\n",
       "      <th>Att5</th>\n",
       "      <th>Att6</th>\n",
       "      <th>Att7</th>\n",
       "      <th>Att8</th>\n",
       "      <th>Att9</th>\n",
       "      <th>...</th>\n",
       "      <th>Att95</th>\n",
       "      <th>Att96</th>\n",
       "      <th>Att97</th>\n",
       "      <th>Att98</th>\n",
       "      <th>Att99</th>\n",
       "      <th>Att100</th>\n",
       "      <th>Att101</th>\n",
       "      <th>Att102</th>\n",
       "      <th>Att103</th>\n",
       "      <th>Pred_prob_class_1</th>\n",
       "    </tr>\n",
       "  </thead>\n",
       "  <tbody>\n",
       "    <tr>\n",
       "      <th>0</th>\n",
       "      <td>0</td>\n",
       "      <td>0.093700</td>\n",
       "      <td>0.139771</td>\n",
       "      <td>0.062774</td>\n",
       "      <td>0.007698</td>\n",
       "      <td>0.083873</td>\n",
       "      <td>-0.119156</td>\n",
       "      <td>0.073305</td>\n",
       "      <td>0.005510</td>\n",
       "      <td>0.027523</td>\n",
       "      <td>...</td>\n",
       "      <td>-0.018712</td>\n",
       "      <td>-0.034711</td>\n",
       "      <td>-0.038675</td>\n",
       "      <td>-0.039102</td>\n",
       "      <td>0.017429</td>\n",
       "      <td>-0.052659</td>\n",
       "      <td>-0.042402</td>\n",
       "      <td>0.118473</td>\n",
       "      <td>0.125632</td>\n",
       "      <td>0.93</td>\n",
       "    </tr>\n",
       "    <tr>\n",
       "      <th>1</th>\n",
       "      <td>1</td>\n",
       "      <td>-0.022711</td>\n",
       "      <td>-0.050504</td>\n",
       "      <td>-0.035691</td>\n",
       "      <td>-0.065434</td>\n",
       "      <td>-0.084316</td>\n",
       "      <td>-0.378560</td>\n",
       "      <td>0.038212</td>\n",
       "      <td>0.085770</td>\n",
       "      <td>0.182613</td>\n",
       "      <td>...</td>\n",
       "      <td>0.030594</td>\n",
       "      <td>-0.021814</td>\n",
       "      <td>0.010430</td>\n",
       "      <td>-0.013809</td>\n",
       "      <td>-0.009248</td>\n",
       "      <td>-0.027318</td>\n",
       "      <td>-0.014191</td>\n",
       "      <td>0.022783</td>\n",
       "      <td>0.123785</td>\n",
       "      <td>0.95</td>\n",
       "    </tr>\n",
       "    <tr>\n",
       "      <th>2</th>\n",
       "      <td>2</td>\n",
       "      <td>-0.090407</td>\n",
       "      <td>0.021198</td>\n",
       "      <td>0.208712</td>\n",
       "      <td>0.102752</td>\n",
       "      <td>0.119315</td>\n",
       "      <td>0.041729</td>\n",
       "      <td>-0.021728</td>\n",
       "      <td>0.019603</td>\n",
       "      <td>-0.063853</td>\n",
       "      <td>...</td>\n",
       "      <td>0.022294</td>\n",
       "      <td>0.012583</td>\n",
       "      <td>0.002233</td>\n",
       "      <td>-0.002072</td>\n",
       "      <td>-0.010981</td>\n",
       "      <td>0.007615</td>\n",
       "      <td>-0.063378</td>\n",
       "      <td>-0.084181</td>\n",
       "      <td>-0.034402</td>\n",
       "      <td>0.92</td>\n",
       "    </tr>\n",
       "    <tr>\n",
       "      <th>3</th>\n",
       "      <td>3</td>\n",
       "      <td>-0.085235</td>\n",
       "      <td>0.009540</td>\n",
       "      <td>-0.013228</td>\n",
       "      <td>0.094063</td>\n",
       "      <td>-0.013592</td>\n",
       "      <td>-0.030719</td>\n",
       "      <td>-0.116062</td>\n",
       "      <td>-0.131674</td>\n",
       "      <td>-0.165448</td>\n",
       "      <td>...</td>\n",
       "      <td>-0.066241</td>\n",
       "      <td>-0.046999</td>\n",
       "      <td>-0.066604</td>\n",
       "      <td>-0.055773</td>\n",
       "      <td>-0.041941</td>\n",
       "      <td>0.051066</td>\n",
       "      <td>0.004976</td>\n",
       "      <td>0.193972</td>\n",
       "      <td>0.131866</td>\n",
       "      <td>0.94</td>\n",
       "    </tr>\n",
       "    <tr>\n",
       "      <th>4</th>\n",
       "      <td>4</td>\n",
       "      <td>-0.088765</td>\n",
       "      <td>-0.026743</td>\n",
       "      <td>0.002075</td>\n",
       "      <td>-0.043819</td>\n",
       "      <td>-0.005465</td>\n",
       "      <td>0.004306</td>\n",
       "      <td>-0.055865</td>\n",
       "      <td>-0.071484</td>\n",
       "      <td>-0.159025</td>\n",
       "      <td>...</td>\n",
       "      <td>-0.080882</td>\n",
       "      <td>0.028468</td>\n",
       "      <td>-0.073576</td>\n",
       "      <td>0.050630</td>\n",
       "      <td>0.084832</td>\n",
       "      <td>-0.019570</td>\n",
       "      <td>-0.021650</td>\n",
       "      <td>-0.068326</td>\n",
       "      <td>-0.091155</td>\n",
       "      <td>0.25</td>\n",
       "    </tr>\n",
       "  </tbody>\n",
       "</table>\n",
       "<p>5 rows × 105 columns</p>\n",
       "</div>"
      ],
      "text/plain": [
       "   Unnamed: 0      Att1      Att2      Att3      Att4      Att5      Att6  \\\n",
       "0           0  0.093700  0.139771  0.062774  0.007698  0.083873 -0.119156   \n",
       "1           1 -0.022711 -0.050504 -0.035691 -0.065434 -0.084316 -0.378560   \n",
       "2           2 -0.090407  0.021198  0.208712  0.102752  0.119315  0.041729   \n",
       "3           3 -0.085235  0.009540 -0.013228  0.094063 -0.013592 -0.030719   \n",
       "4           4 -0.088765 -0.026743  0.002075 -0.043819 -0.005465  0.004306   \n",
       "\n",
       "       Att7      Att8      Att9  ...     Att95     Att96     Att97     Att98  \\\n",
       "0  0.073305  0.005510  0.027523  ... -0.018712 -0.034711 -0.038675 -0.039102   \n",
       "1  0.038212  0.085770  0.182613  ...  0.030594 -0.021814  0.010430 -0.013809   \n",
       "2 -0.021728  0.019603 -0.063853  ...  0.022294  0.012583  0.002233 -0.002072   \n",
       "3 -0.116062 -0.131674 -0.165448  ... -0.066241 -0.046999 -0.066604 -0.055773   \n",
       "4 -0.055865 -0.071484 -0.159025  ... -0.080882  0.028468 -0.073576  0.050630   \n",
       "\n",
       "      Att99    Att100    Att101    Att102    Att103  Pred_prob_class_1  \n",
       "0  0.017429 -0.052659 -0.042402  0.118473  0.125632               0.93  \n",
       "1 -0.009248 -0.027318 -0.014191  0.022783  0.123785               0.95  \n",
       "2 -0.010981  0.007615 -0.063378 -0.084181 -0.034402               0.92  \n",
       "3 -0.041941  0.051066  0.004976  0.193972  0.131866               0.94  \n",
       "4  0.084832 -0.019570 -0.021650 -0.068326 -0.091155               0.25  \n",
       "\n",
       "[5 rows x 105 columns]"
      ]
     },
     "execution_count": 38,
     "metadata": {},
     "output_type": "execute_result"
    }
   ],
   "source": [
    "X_res_1.head()"
   ]
  },
  {
   "cell_type": "markdown",
   "metadata": {},
   "source": [
    "# Part 3"
   ]
  },
  {
   "cell_type": "code",
   "execution_count": 39,
   "metadata": {},
   "outputs": [],
   "source": [
    "from sklearn.model_selection import train_test_split"
   ]
  },
  {
   "cell_type": "code",
   "execution_count": 40,
   "metadata": {},
   "outputs": [],
   "source": [
    "y_res_3 = df[['Class2']]"
   ]
  },
  {
   "cell_type": "code",
   "execution_count": 41,
   "metadata": {},
   "outputs": [
    {
     "data": {
      "text/html": [
       "<div>\n",
       "<style scoped>\n",
       "    .dataframe tbody tr th:only-of-type {\n",
       "        vertical-align: middle;\n",
       "    }\n",
       "\n",
       "    .dataframe tbody tr th {\n",
       "        vertical-align: top;\n",
       "    }\n",
       "\n",
       "    .dataframe thead th {\n",
       "        text-align: right;\n",
       "    }\n",
       "</style>\n",
       "<table border=\"1\" class=\"dataframe\">\n",
       "  <thead>\n",
       "    <tr style=\"text-align: right;\">\n",
       "      <th></th>\n",
       "      <th>Class2</th>\n",
       "    </tr>\n",
       "  </thead>\n",
       "  <tbody>\n",
       "    <tr>\n",
       "      <th>0</th>\n",
       "      <td>0</td>\n",
       "    </tr>\n",
       "    <tr>\n",
       "      <th>1</th>\n",
       "      <td>0</td>\n",
       "    </tr>\n",
       "    <tr>\n",
       "      <th>2</th>\n",
       "      <td>1</td>\n",
       "    </tr>\n",
       "    <tr>\n",
       "      <th>3</th>\n",
       "      <td>0</td>\n",
       "    </tr>\n",
       "    <tr>\n",
       "      <th>4</th>\n",
       "      <td>1</td>\n",
       "    </tr>\n",
       "  </tbody>\n",
       "</table>\n",
       "</div>"
      ],
      "text/plain": [
       "   Class2\n",
       "0       0\n",
       "1       0\n",
       "2       1\n",
       "3       0\n",
       "4       1"
      ]
     },
     "execution_count": 41,
     "metadata": {},
     "output_type": "execute_result"
    }
   ],
   "source": [
    "y_res_3.head()"
   ]
  },
  {
   "cell_type": "code",
   "execution_count": 42,
   "metadata": {},
   "outputs": [],
   "source": [
    "X_train, X_test, y_train, y_test = train_test_split(X_res_1,y_res_3, test_size=0.3, random_state=42)\n"
   ]
  },
  {
   "cell_type": "code",
   "execution_count": 43,
   "metadata": {},
   "outputs": [],
   "source": [
    "model = RandomForestClassifier(bootstrap=True, ccp_alpha=0.0, class_weight=None,\n",
    "                       criterion='gini', max_depth=None, max_features='auto',\n",
    "                       max_leaf_nodes=None, max_samples=None,\n",
    "                       min_impurity_decrease=0.0, min_impurity_split=None,\n",
    "                       min_samples_leaf=1, min_samples_split=2,\n",
    "                       min_weight_fraction_leaf=0.0, n_estimators=100,\n",
    "                       n_jobs=None, oob_score=False, random_state=None,\n",
    "                       verbose=0, warm_start=False)"
   ]
  },
  {
   "cell_type": "code",
   "execution_count": 44,
   "metadata": {},
   "outputs": [
    {
     "name": "stderr",
     "output_type": "stream",
     "text": [
      "/home/nitin/anaconda3/lib/python3.7/site-packages/ipykernel_launcher.py:1: DataConversionWarning: A column-vector y was passed when a 1d array was expected. Please change the shape of y to (n_samples,), for example using ravel().\n",
      "  \"\"\"Entry point for launching an IPython kernel.\n"
     ]
    },
    {
     "name": "stdout",
     "output_type": "stream",
     "text": [
      "0.7977777777777778\n",
      "[[227  30]\n",
      " [ 61 132]]\n",
      "              precision    recall  f1-score   support\n",
      "\n",
      "           0       0.79      0.88      0.83       257\n",
      "           1       0.81      0.68      0.74       193\n",
      "\n",
      "    accuracy                           0.80       450\n",
      "   macro avg       0.80      0.78      0.79       450\n",
      "weighted avg       0.80      0.80      0.79       450\n",
      "\n"
     ]
    }
   ],
   "source": [
    "model.fit(X_train,y_train)\n",
    "y_pred = model.predict(X_test)\n",
    "print(accuracy_score(y_test,y_pred))\n",
    "print(confusion_matrix(y_test,y_pred))\n",
    "print(classification_report(y_test,y_pred))"
   ]
  },
  {
   "cell_type": "markdown",
   "metadata": {},
   "source": [
    "# As we can see that model 2 with target variable class 2 f1 score increase from 0.64% to 0.79%"
   ]
  },
  {
   "cell_type": "markdown",
   "metadata": {},
   "source": [
    "# part 4"
   ]
  },
  {
   "cell_type": "markdown",
   "metadata": {},
   "source": [
    "# Applying Stacking "
   ]
  },
  {
   "cell_type": "code",
   "execution_count": 54,
   "metadata": {},
   "outputs": [],
   "source": [
    "from sklearn.ensemble import GradientBoostingClassifier\n",
    "from sklearn.ensemble import AdaBoostClassifier\n",
    "from sklearn.ensemble import ExtraTreesClassifier\n",
    "from sklearn.neighbors import KNeighborsClassifier\n",
    "from sklearn.tree import DecisionTreeClassifier\n",
    "from sklearn.ensemble import StackingClassifier\n"
   ]
  },
  {
   "cell_type": "code",
   "execution_count": 55,
   "metadata": {},
   "outputs": [],
   "source": [
    "from sklearn.calibration import calibration_curve\n",
    "from matplotlib import pyplot\n",
    "from sklearn.metrics import (brier_score_loss, precision_score, recall_score,\n",
    "                             f1_score)"
   ]
  },
  {
   "cell_type": "code",
   "execution_count": 56,
   "metadata": {},
   "outputs": [],
   "source": [
    "level0 = list()\n",
    "level0.append(('AB', AdaBoostClassifier()))\n",
    "level0.append(('ETC', ExtraTreesClassifier()))\n",
    "level0.append(('cart', DecisionTreeClassifier()))\n",
    "level0.append(('GBC', GradientBoostingClassifier()))\n"
   ]
  },
  {
   "cell_type": "code",
   "execution_count": 57,
   "metadata": {},
   "outputs": [],
   "source": [
    "# define meta learner model\n",
    "level1 = RandomForestClassifier()"
   ]
  },
  {
   "cell_type": "code",
   "execution_count": 58,
   "metadata": {},
   "outputs": [
    {
     "name": "stderr",
     "output_type": "stream",
     "text": [
      "/home/nitin/anaconda3/lib/python3.7/site-packages/sklearn/preprocessing/_label.py:235: DataConversionWarning: A column-vector y was passed when a 1d array was expected. Please change the shape of y to (n_samples, ), for example using ravel().\n",
      "  y = column_or_1d(y, warn=True)\n",
      "/home/nitin/anaconda3/lib/python3.7/site-packages/sklearn/preprocessing/_label.py:268: DataConversionWarning: A column-vector y was passed when a 1d array was expected. Please change the shape of y to (n_samples, ), for example using ravel().\n",
      "  y = column_or_1d(y, warn=True)\n"
     ]
    },
    {
     "data": {
      "text/plain": [
       "StackingClassifier(cv=5,\n",
       "                   estimators=[('AB',\n",
       "                                AdaBoostClassifier(algorithm='SAMME.R',\n",
       "                                                   base_estimator=None,\n",
       "                                                   learning_rate=1.0,\n",
       "                                                   n_estimators=50,\n",
       "                                                   random_state=None)),\n",
       "                               ('ETC',\n",
       "                                ExtraTreesClassifier(bootstrap=False,\n",
       "                                                     ccp_alpha=0.0,\n",
       "                                                     class_weight=None,\n",
       "                                                     criterion='gini',\n",
       "                                                     max_depth=None,\n",
       "                                                     max_features='auto',\n",
       "                                                     max_leaf_nodes=None,\n",
       "                                                     max_samples=None,\n",
       "                                                     min_impurity_decrease=0.0,\n",
       "                                                     min_...\n",
       "                                                          criterion='gini',\n",
       "                                                          max_depth=None,\n",
       "                                                          max_features='auto',\n",
       "                                                          max_leaf_nodes=None,\n",
       "                                                          max_samples=None,\n",
       "                                                          min_impurity_decrease=0.0,\n",
       "                                                          min_impurity_split=None,\n",
       "                                                          min_samples_leaf=1,\n",
       "                                                          min_samples_split=2,\n",
       "                                                          min_weight_fraction_leaf=0.0,\n",
       "                                                          n_estimators=100,\n",
       "                                                          n_jobs=None,\n",
       "                                                          oob_score=False,\n",
       "                                                          random_state=None,\n",
       "                                                          verbose=0,\n",
       "                                                          warm_start=False),\n",
       "                   n_jobs=None, passthrough=False, stack_method='auto',\n",
       "                   verbose=0)"
      ]
     },
     "execution_count": 58,
     "metadata": {},
     "output_type": "execute_result"
    }
   ],
   "source": [
    "# define the stacking ensemble\n",
    "model = StackingClassifier(estimators=level0, final_estimator=level1, cv=5)\n",
    "# fit the model on all available data\n",
    "model.fit(X_train, y_train)"
   ]
  },
  {
   "cell_type": "code",
   "execution_count": 59,
   "metadata": {},
   "outputs": [
    {
     "name": "stdout",
     "output_type": "stream",
     "text": [
      "0.7955555555555556\n",
      "[[216  41]\n",
      " [ 51 142]]\n",
      "              precision    recall  f1-score   support\n",
      "\n",
      "           0       0.81      0.84      0.82       257\n",
      "           1       0.78      0.74      0.76       193\n",
      "\n",
      "    accuracy                           0.80       450\n",
      "   macro avg       0.79      0.79      0.79       450\n",
      "weighted avg       0.79      0.80      0.79       450\n",
      "\n"
     ]
    }
   ],
   "source": [
    "y_pred = model.predict(X_test)\n",
    "print(accuracy_score(y_test,y_pred))\n",
    "print(confusion_matrix(y_test,y_pred))\n",
    "print(classification_report(y_test,y_pred))"
   ]
  },
  {
   "cell_type": "code",
   "execution_count": 60,
   "metadata": {},
   "outputs": [],
   "source": [
    "probs = model.predict(X_test)"
   ]
  },
  {
   "cell_type": "code",
   "execution_count": 61,
   "metadata": {},
   "outputs": [
    {
     "name": "stdout",
     "output_type": "stream",
     "text": [
      "0.20444444444444446\n"
     ]
    }
   ],
   "source": [
    "clf_score = brier_score_loss(y_test, probs)\n",
    "\n",
    "print(clf_score)"
   ]
  },
  {
   "cell_type": "code",
   "execution_count": 62,
   "metadata": {},
   "outputs": [
    {
     "data": {
      "image/png": "[encoded data removed]",
      "text/plain": [
       "<Figure size 432x288 with 1 Axes>"
      ]
     },
     "metadata": {
      "needs_background": "light"
     },
     "output_type": "display_data"
    }
   ],
   "source": [
    "fop, mpv = calibration_curve(y_test, probs, n_bins=10, normalize=True)\n",
    "# plot perfectly calibrated\n",
    "pyplot.plot([0, 1], [0, 1], linestyle='--')\n",
    "# plot model reliability\n",
    "pyplot.plot(mpv, fop, marker='.')\n",
    "pyplot.show()"
   ]
  },
  {
   "cell_type": "markdown",
   "metadata": {},
   "source": [
    "# calibrating Model using Sigmoid "
   ]
  },
  {
   "cell_type": "code",
   "execution_count": 63,
   "metadata": {},
   "outputs": [
    {
     "name": "stderr",
     "output_type": "stream",
     "text": [
      "/home/nitin/anaconda3/lib/python3.7/site-packages/sklearn/utils/validation.py:760: DataConversionWarning: A column-vector y was passed when a 1d array was expected. Please change the shape of y to (n_samples, ), for example using ravel().\n",
      "  y = column_or_1d(y, warn=True)\n"
     ]
    },
    {
     "name": "stdout",
     "output_type": "stream",
     "text": [
      "0.15847568924220562\n"
     ]
    },
    {
     "data": {
      "image/png": "[encoded data removed]",
      "text/plain": [
       "<Figure size 432x288 with 1 Axes>"
      ]
     },
     "metadata": {
      "needs_background": "light"
     },
     "output_type": "display_data"
    }
   ],
   "source": [
    "from sklearn.calibration import CalibratedClassifierCV\n",
    "\n",
    "calibrated = CalibratedClassifierCV(model, method='sigmoid', cv=5)\n",
    "calibrated.fit(X_train, y_train)\n",
    "\n",
    "\n",
    "# predict probabilities\n",
    "probs = calibrated.predict_proba(X_test)[:, 1]\n",
    "\n",
    "clf_score = brier_score_loss(y_test, probs)\n",
    "\n",
    "print(clf_score)\n",
    "# reliability diagram\n",
    "fop, mpv = calibration_curve(y_test, probs, n_bins=10, normalize=True)\n",
    "# plot perfectly calibrated\n",
    "pyplot.plot([0, 1], [0, 1], linestyle='--')\n",
    "# plot calibrated reliability\n",
    "pyplot.plot(mpv, fop, marker='.')\n",
    "pyplot.show()"
   ]
  },
  {
   "cell_type": "markdown",
   "metadata": {},
   "source": [
    "# Calibrating model using Isotonic Regression "
   ]
  },
  {
   "cell_type": "code",
   "execution_count": 64,
   "metadata": {},
   "outputs": [
    {
     "name": "stderr",
     "output_type": "stream",
     "text": [
      "/home/nitin/anaconda3/lib/python3.7/site-packages/sklearn/utils/validation.py:760: DataConversionWarning: A column-vector y was passed when a 1d array was expected. Please change the shape of y to (n_samples, ), for example using ravel().\n",
      "  y = column_or_1d(y, warn=True)\n"
     ]
    },
    {
     "name": "stdout",
     "output_type": "stream",
     "text": [
      "0.14731357685671348\n"
     ]
    },
    {
     "data": {
      "image/png": "[encoded data removed]",
      "text/plain": [
       "<Figure size 432x288 with 1 Axes>"
      ]
     },
     "metadata": {
      "needs_background": "light"
     },
     "output_type": "display_data"
    }
   ],
   "source": [
    "from sklearn.calibration import CalibratedClassifierCV\n",
    "\n",
    "calibrated = CalibratedClassifierCV(model, method='isotonic', cv=5)\n",
    "calibrated.fit(X_train, y_train)\n",
    "# predict probabilities\n",
    "probs = calibrated.predict_proba(X_test)[:, 1]\n",
    "# reliability diagram\n",
    "fop, mpv = calibration_curve(y_test, probs, n_bins=10, normalize=True)\n",
    "# plot perfectly calibrated\n",
    "\n",
    "clf_score1 = brier_score_loss(y_test, probs)\n",
    "\n",
    "print(clf_score1)\n",
    "pyplot.plot([0, 1], [0, 1], linestyle='--')\n",
    "# plot calibrated reliability\n",
    "pyplot.plot(mpv, fop, marker='.')\n",
    "pyplot.show()"
   ]
  },
  {
   "cell_type": "code",
   "execution_count": null,
   "metadata": {},
   "outputs": [],
   "source": []
  }
 ],
 "metadata": {
  "kernelspec": {
   "display_name": "Python 3",
   "language": "python",
   "name": "python3"
  },
  "language_info": {
   "codemirror_mode": {
    "name": "ipython",
    "version": 3
   },
   "file_extension": ".py",
   "mimetype": "text/x-python",
   "name": "python",
   "nbconvert_exporter": "python",
   "pygments_lexer": "ipython3",
   "version": "3.7.5"
  }
 },
 "nbformat": 4,
 "nbformat_minor": 2
}

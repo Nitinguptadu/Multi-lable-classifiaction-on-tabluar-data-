{
 "cells": [
  {
   "cell_type": "code",
   "execution_count": 1,
   "metadata": {},
   "outputs": [],
   "source": [
    "import numpy as np\n",
    "\n",
    "import pandas as pd"
   ]
  },
  {
   "cell_type": "code",
   "execution_count": 2,
   "metadata": {},
   "outputs": [],
   "source": [
    "df = pd.read_excel(\"data1.xlsx\",index_col=None)"
   ]
  },
  {
   "cell_type": "code",
   "execution_count": 3,
   "metadata": {},
   "outputs": [
    {
     "data": {
      "text/html": [
       "<div>\n",
       "<style scoped>\n",
       "    .dataframe tbody tr th:only-of-type {\n",
       "        vertical-align: middle;\n",
       "    }\n",
       "\n",
       "    .dataframe tbody tr th {\n",
       "        vertical-align: top;\n",
       "    }\n",
       "\n",
       "    .dataframe thead th {\n",
       "        text-align: right;\n",
       "    }\n",
       "</style>\n",
       "<table border=\"1\" class=\"dataframe\">\n",
       "  <thead>\n",
       "    <tr style=\"text-align: right;\">\n",
       "      <th></th>\n",
       "      <th>Unnamed: 0</th>\n",
       "      <th>Att1</th>\n",
       "      <th>Att2</th>\n",
       "      <th>Att3</th>\n",
       "      <th>Att4</th>\n",
       "      <th>Att5</th>\n",
       "      <th>Att6</th>\n",
       "      <th>Att7</th>\n",
       "      <th>Att8</th>\n",
       "      <th>Att9</th>\n",
       "      <th>...</th>\n",
       "      <th>Att97</th>\n",
       "      <th>Att98</th>\n",
       "      <th>Att99</th>\n",
       "      <th>Att100</th>\n",
       "      <th>Att101</th>\n",
       "      <th>Att102</th>\n",
       "      <th>Att103</th>\n",
       "      <th>prob</th>\n",
       "      <th>Class1</th>\n",
       "      <th>Class2</th>\n",
       "    </tr>\n",
       "  </thead>\n",
       "  <tbody>\n",
       "    <tr>\n",
       "      <th>0</th>\n",
       "      <td>0</td>\n",
       "      <td>0.093700</td>\n",
       "      <td>0.139771</td>\n",
       "      <td>0.062774</td>\n",
       "      <td>0.007698</td>\n",
       "      <td>0.083873</td>\n",
       "      <td>-0.119156</td>\n",
       "      <td>0.073305</td>\n",
       "      <td>0.005510</td>\n",
       "      <td>0.027523</td>\n",
       "      <td>...</td>\n",
       "      <td>-0.038675</td>\n",
       "      <td>-0.039102</td>\n",
       "      <td>0.017429</td>\n",
       "      <td>-0.052659</td>\n",
       "      <td>-0.042402</td>\n",
       "      <td>0.118473</td>\n",
       "      <td>0.125632</td>\n",
       "      <td>0.90</td>\n",
       "      <td>0</td>\n",
       "      <td>0</td>\n",
       "    </tr>\n",
       "    <tr>\n",
       "      <th>1</th>\n",
       "      <td>1</td>\n",
       "      <td>-0.022711</td>\n",
       "      <td>-0.050504</td>\n",
       "      <td>-0.035691</td>\n",
       "      <td>-0.065434</td>\n",
       "      <td>-0.084316</td>\n",
       "      <td>-0.378560</td>\n",
       "      <td>0.038212</td>\n",
       "      <td>0.085770</td>\n",
       "      <td>0.182613</td>\n",
       "      <td>...</td>\n",
       "      <td>0.010430</td>\n",
       "      <td>-0.013809</td>\n",
       "      <td>-0.009248</td>\n",
       "      <td>-0.027318</td>\n",
       "      <td>-0.014191</td>\n",
       "      <td>0.022783</td>\n",
       "      <td>0.123785</td>\n",
       "      <td>0.90</td>\n",
       "      <td>0</td>\n",
       "      <td>0</td>\n",
       "    </tr>\n",
       "    <tr>\n",
       "      <th>2</th>\n",
       "      <td>2</td>\n",
       "      <td>-0.090407</td>\n",
       "      <td>0.021198</td>\n",
       "      <td>0.208712</td>\n",
       "      <td>0.102752</td>\n",
       "      <td>0.119315</td>\n",
       "      <td>0.041729</td>\n",
       "      <td>-0.021728</td>\n",
       "      <td>0.019603</td>\n",
       "      <td>-0.063853</td>\n",
       "      <td>...</td>\n",
       "      <td>0.002233</td>\n",
       "      <td>-0.002072</td>\n",
       "      <td>-0.010981</td>\n",
       "      <td>0.007615</td>\n",
       "      <td>-0.063378</td>\n",
       "      <td>-0.084181</td>\n",
       "      <td>-0.034402</td>\n",
       "      <td>0.92</td>\n",
       "      <td>0</td>\n",
       "      <td>1</td>\n",
       "    </tr>\n",
       "    <tr>\n",
       "      <th>3</th>\n",
       "      <td>3</td>\n",
       "      <td>-0.085235</td>\n",
       "      <td>0.009540</td>\n",
       "      <td>-0.013228</td>\n",
       "      <td>0.094063</td>\n",
       "      <td>-0.013592</td>\n",
       "      <td>-0.030719</td>\n",
       "      <td>-0.116062</td>\n",
       "      <td>-0.131674</td>\n",
       "      <td>-0.165448</td>\n",
       "      <td>...</td>\n",
       "      <td>-0.066604</td>\n",
       "      <td>-0.055773</td>\n",
       "      <td>-0.041941</td>\n",
       "      <td>0.051066</td>\n",
       "      <td>0.004976</td>\n",
       "      <td>0.193972</td>\n",
       "      <td>0.131866</td>\n",
       "      <td>0.95</td>\n",
       "      <td>0</td>\n",
       "      <td>0</td>\n",
       "    </tr>\n",
       "    <tr>\n",
       "      <th>4</th>\n",
       "      <td>4</td>\n",
       "      <td>-0.088765</td>\n",
       "      <td>-0.026743</td>\n",
       "      <td>0.002075</td>\n",
       "      <td>-0.043819</td>\n",
       "      <td>-0.005465</td>\n",
       "      <td>0.004306</td>\n",
       "      <td>-0.055865</td>\n",
       "      <td>-0.071484</td>\n",
       "      <td>-0.159025</td>\n",
       "      <td>...</td>\n",
       "      <td>-0.073576</td>\n",
       "      <td>0.050630</td>\n",
       "      <td>0.084832</td>\n",
       "      <td>-0.019570</td>\n",
       "      <td>-0.021650</td>\n",
       "      <td>-0.068326</td>\n",
       "      <td>-0.091155</td>\n",
       "      <td>0.27</td>\n",
       "      <td>1</td>\n",
       "      <td>1</td>\n",
       "    </tr>\n",
       "  </tbody>\n",
       "</table>\n",
       "<p>5 rows × 107 columns</p>\n",
       "</div>"
      ],
      "text/plain": [
       "   Unnamed: 0      Att1      Att2      Att3      Att4      Att5      Att6  \\\n",
       "0           0  0.093700  0.139771  0.062774  0.007698  0.083873 -0.119156   \n",
       "1           1 -0.022711 -0.050504 -0.035691 -0.065434 -0.084316 -0.378560   \n",
       "2           2 -0.090407  0.021198  0.208712  0.102752  0.119315  0.041729   \n",
       "3           3 -0.085235  0.009540 -0.013228  0.094063 -0.013592 -0.030719   \n",
       "4           4 -0.088765 -0.026743  0.002075 -0.043819 -0.005465  0.004306   \n",
       "\n",
       "       Att7      Att8      Att9  ...     Att97     Att98     Att99    Att100  \\\n",
       "0  0.073305  0.005510  0.027523  ... -0.038675 -0.039102  0.017429 -0.052659   \n",
       "1  0.038212  0.085770  0.182613  ...  0.010430 -0.013809 -0.009248 -0.027318   \n",
       "2 -0.021728  0.019603 -0.063853  ...  0.002233 -0.002072 -0.010981  0.007615   \n",
       "3 -0.116062 -0.131674 -0.165448  ... -0.066604 -0.055773 -0.041941  0.051066   \n",
       "4 -0.055865 -0.071484 -0.159025  ... -0.073576  0.050630  0.084832 -0.019570   \n",
       "\n",
       "     Att101    Att102    Att103  prob  Class1  Class2  \n",
       "0 -0.042402  0.118473  0.125632  0.90       0       0  \n",
       "1 -0.014191  0.022783  0.123785  0.90       0       0  \n",
       "2 -0.063378 -0.084181 -0.034402  0.92       0       1  \n",
       "3  0.004976  0.193972  0.131866  0.95       0       0  \n",
       "4 -0.021650 -0.068326 -0.091155  0.27       1       1  \n",
       "\n",
       "[5 rows x 107 columns]"
      ]
     },
     "execution_count": 3,
     "metadata": {},
     "output_type": "execute_result"
    }
   ],
   "source": [
    "df.head()"
   ]
  },
  {
   "cell_type": "code",
   "execution_count": 4,
   "metadata": {},
   "outputs": [],
   "source": [
    "from sklearn.model_selection import train_test_split"
   ]
  },
  {
   "cell_type": "code",
   "execution_count": 5,
   "metadata": {},
   "outputs": [],
   "source": [
    "\n",
    "X_res = df.drop(columns=['Class1','Class2'],axis=1)"
   ]
  },
  {
   "cell_type": "code",
   "execution_count": 6,
   "metadata": {},
   "outputs": [
    {
     "data": {
      "text/html": [
       "<div>\n",
       "<style scoped>\n",
       "    .dataframe tbody tr th:only-of-type {\n",
       "        vertical-align: middle;\n",
       "    }\n",
       "\n",
       "    .dataframe tbody tr th {\n",
       "        vertical-align: top;\n",
       "    }\n",
       "\n",
       "    .dataframe thead th {\n",
       "        text-align: right;\n",
       "    }\n",
       "</style>\n",
       "<table border=\"1\" class=\"dataframe\">\n",
       "  <thead>\n",
       "    <tr style=\"text-align: right;\">\n",
       "      <th></th>\n",
       "      <th>Unnamed: 0</th>\n",
       "      <th>Att1</th>\n",
       "      <th>Att2</th>\n",
       "      <th>Att3</th>\n",
       "      <th>Att4</th>\n",
       "      <th>Att5</th>\n",
       "      <th>Att6</th>\n",
       "      <th>Att7</th>\n",
       "      <th>Att8</th>\n",
       "      <th>Att9</th>\n",
       "      <th>...</th>\n",
       "      <th>Att95</th>\n",
       "      <th>Att96</th>\n",
       "      <th>Att97</th>\n",
       "      <th>Att98</th>\n",
       "      <th>Att99</th>\n",
       "      <th>Att100</th>\n",
       "      <th>Att101</th>\n",
       "      <th>Att102</th>\n",
       "      <th>Att103</th>\n",
       "      <th>prob</th>\n",
       "    </tr>\n",
       "  </thead>\n",
       "  <tbody>\n",
       "    <tr>\n",
       "      <th>0</th>\n",
       "      <td>0</td>\n",
       "      <td>0.093700</td>\n",
       "      <td>0.139771</td>\n",
       "      <td>0.062774</td>\n",
       "      <td>0.007698</td>\n",
       "      <td>0.083873</td>\n",
       "      <td>-0.119156</td>\n",
       "      <td>0.073305</td>\n",
       "      <td>0.005510</td>\n",
       "      <td>0.027523</td>\n",
       "      <td>...</td>\n",
       "      <td>-0.018712</td>\n",
       "      <td>-0.034711</td>\n",
       "      <td>-0.038675</td>\n",
       "      <td>-0.039102</td>\n",
       "      <td>0.017429</td>\n",
       "      <td>-0.052659</td>\n",
       "      <td>-0.042402</td>\n",
       "      <td>0.118473</td>\n",
       "      <td>0.125632</td>\n",
       "      <td>0.90</td>\n",
       "    </tr>\n",
       "    <tr>\n",
       "      <th>1</th>\n",
       "      <td>1</td>\n",
       "      <td>-0.022711</td>\n",
       "      <td>-0.050504</td>\n",
       "      <td>-0.035691</td>\n",
       "      <td>-0.065434</td>\n",
       "      <td>-0.084316</td>\n",
       "      <td>-0.378560</td>\n",
       "      <td>0.038212</td>\n",
       "      <td>0.085770</td>\n",
       "      <td>0.182613</td>\n",
       "      <td>...</td>\n",
       "      <td>0.030594</td>\n",
       "      <td>-0.021814</td>\n",
       "      <td>0.010430</td>\n",
       "      <td>-0.013809</td>\n",
       "      <td>-0.009248</td>\n",
       "      <td>-0.027318</td>\n",
       "      <td>-0.014191</td>\n",
       "      <td>0.022783</td>\n",
       "      <td>0.123785</td>\n",
       "      <td>0.90</td>\n",
       "    </tr>\n",
       "    <tr>\n",
       "      <th>2</th>\n",
       "      <td>2</td>\n",
       "      <td>-0.090407</td>\n",
       "      <td>0.021198</td>\n",
       "      <td>0.208712</td>\n",
       "      <td>0.102752</td>\n",
       "      <td>0.119315</td>\n",
       "      <td>0.041729</td>\n",
       "      <td>-0.021728</td>\n",
       "      <td>0.019603</td>\n",
       "      <td>-0.063853</td>\n",
       "      <td>...</td>\n",
       "      <td>0.022294</td>\n",
       "      <td>0.012583</td>\n",
       "      <td>0.002233</td>\n",
       "      <td>-0.002072</td>\n",
       "      <td>-0.010981</td>\n",
       "      <td>0.007615</td>\n",
       "      <td>-0.063378</td>\n",
       "      <td>-0.084181</td>\n",
       "      <td>-0.034402</td>\n",
       "      <td>0.92</td>\n",
       "    </tr>\n",
       "    <tr>\n",
       "      <th>3</th>\n",
       "      <td>3</td>\n",
       "      <td>-0.085235</td>\n",
       "      <td>0.009540</td>\n",
       "      <td>-0.013228</td>\n",
       "      <td>0.094063</td>\n",
       "      <td>-0.013592</td>\n",
       "      <td>-0.030719</td>\n",
       "      <td>-0.116062</td>\n",
       "      <td>-0.131674</td>\n",
       "      <td>-0.165448</td>\n",
       "      <td>...</td>\n",
       "      <td>-0.066241</td>\n",
       "      <td>-0.046999</td>\n",
       "      <td>-0.066604</td>\n",
       "      <td>-0.055773</td>\n",
       "      <td>-0.041941</td>\n",
       "      <td>0.051066</td>\n",
       "      <td>0.004976</td>\n",
       "      <td>0.193972</td>\n",
       "      <td>0.131866</td>\n",
       "      <td>0.95</td>\n",
       "    </tr>\n",
       "    <tr>\n",
       "      <th>4</th>\n",
       "      <td>4</td>\n",
       "      <td>-0.088765</td>\n",
       "      <td>-0.026743</td>\n",
       "      <td>0.002075</td>\n",
       "      <td>-0.043819</td>\n",
       "      <td>-0.005465</td>\n",
       "      <td>0.004306</td>\n",
       "      <td>-0.055865</td>\n",
       "      <td>-0.071484</td>\n",
       "      <td>-0.159025</td>\n",
       "      <td>...</td>\n",
       "      <td>-0.080882</td>\n",
       "      <td>0.028468</td>\n",
       "      <td>-0.073576</td>\n",
       "      <td>0.050630</td>\n",
       "      <td>0.084832</td>\n",
       "      <td>-0.019570</td>\n",
       "      <td>-0.021650</td>\n",
       "      <td>-0.068326</td>\n",
       "      <td>-0.091155</td>\n",
       "      <td>0.27</td>\n",
       "    </tr>\n",
       "  </tbody>\n",
       "</table>\n",
       "<p>5 rows × 105 columns</p>\n",
       "</div>"
      ],
      "text/plain": [
       "   Unnamed: 0      Att1      Att2      Att3      Att4      Att5      Att6  \\\n",
       "0           0  0.093700  0.139771  0.062774  0.007698  0.083873 -0.119156   \n",
       "1           1 -0.022711 -0.050504 -0.035691 -0.065434 -0.084316 -0.378560   \n",
       "2           2 -0.090407  0.021198  0.208712  0.102752  0.119315  0.041729   \n",
       "3           3 -0.085235  0.009540 -0.013228  0.094063 -0.013592 -0.030719   \n",
       "4           4 -0.088765 -0.026743  0.002075 -0.043819 -0.005465  0.004306   \n",
       "\n",
       "       Att7      Att8      Att9  ...     Att95     Att96     Att97     Att98  \\\n",
       "0  0.073305  0.005510  0.027523  ... -0.018712 -0.034711 -0.038675 -0.039102   \n",
       "1  0.038212  0.085770  0.182613  ...  0.030594 -0.021814  0.010430 -0.013809   \n",
       "2 -0.021728  0.019603 -0.063853  ...  0.022294  0.012583  0.002233 -0.002072   \n",
       "3 -0.116062 -0.131674 -0.165448  ... -0.066241 -0.046999 -0.066604 -0.055773   \n",
       "4 -0.055865 -0.071484 -0.159025  ... -0.080882  0.028468 -0.073576  0.050630   \n",
       "\n",
       "      Att99    Att100    Att101    Att102    Att103  prob  \n",
       "0  0.017429 -0.052659 -0.042402  0.118473  0.125632  0.90  \n",
       "1 -0.009248 -0.027318 -0.014191  0.022783  0.123785  0.90  \n",
       "2 -0.010981  0.007615 -0.063378 -0.084181 -0.034402  0.92  \n",
       "3 -0.041941  0.051066  0.004976  0.193972  0.131866  0.95  \n",
       "4  0.084832 -0.019570 -0.021650 -0.068326 -0.091155  0.27  \n",
       "\n",
       "[5 rows x 105 columns]"
      ]
     },
     "execution_count": 6,
     "metadata": {},
     "output_type": "execute_result"
    }
   ],
   "source": [
    "X_res.head()"
   ]
  },
  {
   "cell_type": "code",
   "execution_count": 7,
   "metadata": {},
   "outputs": [],
   "source": [
    "y_res = df[['Class2']]"
   ]
  },
  {
   "cell_type": "code",
   "execution_count": 8,
   "metadata": {},
   "outputs": [],
   "source": [
    "X_train, X_test, y_train, y_test = train_test_split(X_res,y_res, test_size=0.3, random_state=42)\n"
   ]
  },
  {
   "cell_type": "code",
   "execution_count": 9,
   "metadata": {},
   "outputs": [],
   "source": [
    "from sklearn.ensemble import RandomForestClassifier\n",
    "from sklearn.metrics import accuracy_score,confusion_matrix,classification_report\n",
    "\n",
    "from sklearn.model_selection import train_test_split\n",
    "from sklearn.calibration import calibration_curve\n",
    "from matplotlib import pyplot"
   ]
  },
  {
   "cell_type": "code",
   "execution_count": 10,
   "metadata": {},
   "outputs": [],
   "source": [
    "model = RandomForestClassifier()"
   ]
  },
  {
   "cell_type": "code",
   "execution_count": 11,
   "metadata": {},
   "outputs": [
    {
     "name": "stderr",
     "output_type": "stream",
     "text": [
      "/home/nitin/anaconda3/lib/python3.7/site-packages/ipykernel_launcher.py:1: DataConversionWarning: A column-vector y was passed when a 1d array was expected. Please change the shape of y to (n_samples,), for example using ravel().\n",
      "  \"\"\"Entry point for launching an IPython kernel.\n"
     ]
    },
    {
     "name": "stdout",
     "output_type": "stream",
     "text": [
      "0.7866666666666666\n",
      "[[225  32]\n",
      " [ 64 129]]\n",
      "              precision    recall  f1-score   support\n",
      "\n",
      "           0       0.78      0.88      0.82       257\n",
      "           1       0.80      0.67      0.73       193\n",
      "\n",
      "    accuracy                           0.79       450\n",
      "   macro avg       0.79      0.77      0.78       450\n",
      "weighted avg       0.79      0.79      0.78       450\n",
      "\n"
     ]
    }
   ],
   "source": [
    "model.fit(X_train,y_train)\n",
    "y_pred = model.predict(X_test)\n",
    "print(accuracy_score(y_test,y_pred))\n",
    "print(confusion_matrix(y_test,y_pred))\n",
    "print(classification_report(y_test,y_pred))"
   ]
  },
  {
   "cell_type": "code",
   "execution_count": 13,
   "metadata": {},
   "outputs": [],
   "source": [
    "probs = model.predict(X_test)"
   ]
  },
  {
   "cell_type": "code",
   "execution_count": 15,
   "metadata": {},
   "outputs": [
    {
     "data": {
      "image/png": "[encoded data removed]",
      "text/plain": [
       "<Figure size 432x288 with 1 Axes>"
      ]
     },
     "metadata": {
      "needs_background": "light"
     },
     "output_type": "display_data"
    }
   ],
   "source": [
    "fop, mpv = calibration_curve(y_test, probs, n_bins=10, normalize=True)\n",
    "# plot perfectly calibrated\n",
    "pyplot.plot([0, 1], [0, 1], linestyle='--')\n",
    "# plot model reliability\n",
    "pyplot.plot(mpv, fop, marker='.')\n",
    "pyplot.show()"
   ]
  },
  {
   "cell_type": "code",
   "execution_count": 17,
   "metadata": {},
   "outputs": [
    {
     "name": "stderr",
     "output_type": "stream",
     "text": [
      "/home/nitin/anaconda3/lib/python3.7/site-packages/sklearn/utils/validation.py:760: DataConversionWarning: A column-vector y was passed when a 1d array was expected. Please change the shape of y to (n_samples, ), for example using ravel().\n",
      "  y = column_or_1d(y, warn=True)\n"
     ]
    },
    {
     "data": {
      "image/png": "[encoded data removed]",
      "text/plain": [
       "<Figure size 432x288 with 1 Axes>"
      ]
     },
     "metadata": {
      "needs_background": "light"
     },
     "output_type": "display_data"
    }
   ],
   "source": [
    "from sklearn.calibration import CalibratedClassifierCV\n",
    "\n",
    "calibrated = CalibratedClassifierCV(model, method='sigmoid', cv=5)\n",
    "calibrated.fit(X_train, y_train)\n",
    "# predict probabilities\n",
    "probs = calibrated.predict_proba(X_test)[:, 1]\n",
    "# reliability diagram\n",
    "fop, mpv = calibration_curve(y_test, probs, n_bins=10, normalize=True)\n",
    "# plot perfectly calibrated\n",
    "pyplot.plot([0, 1], [0, 1], linestyle='--')\n",
    "# plot calibrated reliability\n",
    "pyplot.plot(mpv, fop, marker='.')\n",
    "pyplot.show()"
   ]
  },
  {
   "cell_type": "code",
   "execution_count": 19,
   "metadata": {},
   "outputs": [
    {
     "name": "stderr",
     "output_type": "stream",
     "text": [
      "/home/nitin/anaconda3/lib/python3.7/site-packages/sklearn/utils/validation.py:760: DataConversionWarning: A column-vector y was passed when a 1d array was expected. Please change the shape of y to (n_samples, ), for example using ravel().\n",
      "  y = column_or_1d(y, warn=True)\n"
     ]
    },
    {
     "data": {
      "image/png": "[encoded data removed]",
      "text/plain": [
       "<Figure size 432x288 with 1 Axes>"
      ]
     },
     "metadata": {
      "needs_background": "light"
     },
     "output_type": "display_data"
    }
   ],
   "source": [
    "from sklearn.calibration import CalibratedClassifierCV\n",
    "\n",
    "calibrated = CalibratedClassifierCV(model, method='isotonic', cv=5)\n",
    "calibrated.fit(X_train, y_train)\n",
    "# predict probabilities\n",
    "probs = calibrated.predict_proba(X_test)[:, 1]\n",
    "# reliability diagram\n",
    "fop, mpv = calibration_curve(y_test, probs, n_bins=10, normalize=True)\n",
    "# plot perfectly calibrated\n",
    "pyplot.plot([0, 1], [0, 1], linestyle='--')\n",
    "# plot calibrated reliability\n",
    "pyplot.plot(mpv, fop, marker='.')\n",
    "pyplot.show()"
   ]
  },
  {
   "cell_type": "code",
   "execution_count": 21,
   "metadata": {},
   "outputs": [
    {
     "data": {
      "text/plain": [
       "(450,)"
      ]
     },
     "execution_count": 21,
     "metadata": {},
     "output_type": "execute_result"
    }
   ],
   "source": [
    "probs.shape"
   ]
  },
  {
   "cell_type": "code",
   "execution_count": null,
   "metadata": {},
   "outputs": [],
   "source": []
  }
 ],
 "metadata": {
  "kernelspec": {
   "display_name": "Python 3",
   "language": "python",
   "name": "python3"
  },
  "language_info": {
   "codemirror_mode": {
    "name": "ipython",
    "version": 3
   },
   "file_extension": ".py",
   "mimetype": "text/x-python",
   "name": "python",
   "nbconvert_exporter": "python",
   "pygments_lexer": "ipython3",
   "version": "3.7.5"
  }
 },
 "nbformat": 4,
 "nbformat_minor": 2
}
